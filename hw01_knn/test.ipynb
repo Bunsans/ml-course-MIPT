{
 "cells": [
  {
   "cell_type": "code",
   "execution_count": 13,
   "id": "6630d897",
   "metadata": {},
   "outputs": [
    {
     "name": "stdout",
     "output_type": "stream",
     "text": [
      "[[1 2 3]\n",
      " [1 2 3]\n",
      " [1 2 3]] \n",
      " \n",
      " [1 2 3]\n"
     ]
    }
   ],
   "source": [
    "import numpy as np\n",
    "\n",
    "a = np.array([1,2,3]).T\n",
    "print(np.tile(a, (3, 1)), '\\n \\n', a)"
   ]
  },
  {
   "cell_type": "code",
   "execution_count": 104,
   "id": "e2114af9",
   "metadata": {},
   "outputs": [
    {
     "name": "stdout",
     "output_type": "stream",
     "text": [
      "Training data shape:  (6, 64)\n",
      "Training labels shape:  (6,)\n",
      "Test data shape:  (5, 64)\n",
      "Test labels shape:  (5,)\n"
     ]
    }
   ],
   "source": [
    "from sklearn import datasets\n",
    "dataset = datasets.load_digits()\n",
    "\n",
    "# First 100 images will be used for testing. This dataset is not sorted by the labels, so it's ok\n",
    "# to do the split this way.\n",
    "# Please be careful when you split your data into train and test in general.\n",
    "test_border = 5\n",
    "X_train, y_train = dataset.data[test_border:11], dataset.target[test_border:11]\n",
    "X_test, y_test = dataset.data[:test_border], dataset.target[:test_border]\n",
    "\n",
    "print('Training data shape: ', X_train.shape)\n",
    "print('Training labels shape: ', y_train.shape)\n",
    "print('Test data shape: ', X_test.shape)\n",
    "print('Test labels shape: ', y_test.shape)\n",
    "num_test = X_test.shape[0]"
   ]
  },
  {
   "cell_type": "code",
   "execution_count": 111,
   "id": "acfa99ec",
   "metadata": {},
   "outputs": [
    {
     "name": "stdout",
     "output_type": "stream",
     "text": [
      "[[43.9089968  48.55924217 56.         44.39594576 40.80441153 23.70653918]\n",
      " [47.12748667 40.28647416 50.96076922 48.62098312 52.82045058 54.65345369]\n",
      " [55.4436651  45.65084884 49.33558553 42.60281681 54.83611948 46.79743583]\n",
      " [33.66006536 47.2546294  56.82429058 42.44997055 45.16635916 52.22068556]\n",
      " [54.14794548 36.95943723 59.48108943 52.50714237 55.05451843 44.11349   ]]\n"
     ]
    }
   ],
   "source": [
    "        num_test = X_test.shape[0]\n",
    "        num_train = X_train.shape[0]\n",
    "        dists_1 = np.zeros((num_test, num_train))\n",
    "        for i in range(num_test):\n",
    "            for j in range(num_train):\n",
    "                #####################################################################\n",
    "                # TODO:                                                             #\n",
    "                # Compute the l2 distance between the ith test point and the jth    #\n",
    "                # training point, and store the result in dists[i, j]. You should   #\n",
    "                # not use a loop over dimension, nor use np.linalg.norm().          #\n",
    "                #####################################################################\n",
    "                # *****START OF YOUR CODE (DO NOT DELETE/MODIFY THIS LINE)*****\n",
    "                dists_1[i][j] = np.sqrt(np.sum((X_train[j] - X_test[i]) ** 2))\n",
    "                # *****END OF YOUR CODE (DO NOT DELETE/MODIFY THIS LINE)*****\n",
    "print(dists_1)"
   ]
  },
  {
   "cell_type": "code",
   "execution_count": null,
   "id": "176e6edb",
   "metadata": {},
   "outputs": [],
   "source": []
  },
  {
   "cell_type": "code",
   "execution_count": 118,
   "id": "30d6fa32",
   "metadata": {},
   "outputs": [
    {
     "name": "stdout",
     "output_type": "stream",
     "text": [
      "-------(6, 64)-------\n",
      "----(6,)------------\n"
     ]
    },
    {
     "ename": "ValueError",
     "evalue": "could not broadcast input array from shape (64,) into shape (6,)",
     "output_type": "error",
     "traceback": [
      "\u001b[0;31m---------------------------------------------------------------------------\u001b[0m",
      "\u001b[0;31mValueError\u001b[0m                                Traceback (most recent call last)",
      "Cell \u001b[0;32mIn[118], line 18\u001b[0m\n\u001b[1;32m     16\u001b[0m     \u001b[38;5;28mprint\u001b[39m(\u001b[38;5;124mf\u001b[39m\u001b[38;5;124m\"\u001b[39m\u001b[38;5;124m-------\u001b[39m\u001b[38;5;132;01m{\u001b[39;00mA\u001b[38;5;241m.\u001b[39mshape\u001b[38;5;132;01m}\u001b[39;00m\u001b[38;5;124m-------\u001b[39m\u001b[38;5;124m\"\u001b[39m)\n\u001b[1;32m     17\u001b[0m     \u001b[38;5;28mprint\u001b[39m(\u001b[38;5;124mf\u001b[39m\u001b[38;5;124m\"\u001b[39m\u001b[38;5;124m----\u001b[39m\u001b[38;5;132;01m{\u001b[39;00mnp\u001b[38;5;241m.\u001b[39msum(A \u001b[38;5;241m*\u001b[39m A, axis\u001b[38;5;241m=\u001b[39m\u001b[38;5;241m1\u001b[39m)\u001b[38;5;241m.\u001b[39mshape\u001b[38;5;132;01m}\u001b[39;00m\u001b[38;5;124m------------\u001b[39m\u001b[38;5;124m\"\u001b[39m)\n\u001b[0;32m---> 18\u001b[0m     dists[i] \u001b[38;5;241m=\u001b[39m np\u001b[38;5;241m.\u001b[39msqrt(np\u001b[38;5;241m.\u001b[39msum(A \u001b[38;5;241m*\u001b[39m A, axis\u001b[38;5;241m=\u001b[39m\u001b[38;5;241m0\u001b[39m))\n\u001b[1;32m     19\u001b[0m \u001b[38;5;28mprint\u001b[39m(dists_2)\n",
      "\u001b[0;31mValueError\u001b[0m: could not broadcast input array from shape (64,) into shape (6,)"
     ]
    }
   ],
   "source": [
    "        num_test = X_test.shape[0]\n",
    "        num_train = X_train.shape[0]\n",
    "        dists_2 = np.zeros((num_test, num_train))\n",
    "        for i in range(num_test):\n",
    "            #######################################################################\n",
    "            # TODO:                                                               #\n",
    "            # Compute the l2 distance between the ith test point and all training #\n",
    "            # points, and store the result in dists[i, :].                        #\n",
    "            # Do not use np.linalg.norm().                                        #\n",
    "            #######################################################################\n",
    "            # *****START OF YOUR CODE (DO NOT DELETE/MODIFY THIS LINE)*****\n",
    "            \n",
    "            ###A = X_train - X_test[i] \n",
    "            ###dists_2[i] = np.sqrt(np.diag(A @ A.T))  \n",
    "            A = X_train - X_test[i]\n",
    "            print(f\"-------{A.shape}-------\")\n",
    "            print(f\"----{np.sum(A * A, axis=1).shape}------------\")\n",
    "            dists[i] = np.sqrt(np.sum(A * A, axis=0))\n",
    "print(dists_2)"
   ]
  },
  {
   "cell_type": "code",
   "execution_count": 114,
   "id": "53100602",
   "metadata": {},
   "outputs": [
    {
     "name": "stdout",
     "output_type": "stream",
     "text": [
      "[[43.9089968  48.55924217 56.         44.39594576 40.80441153 23.70653918]\n",
      " [47.12748667 40.28647416 50.96076922 48.62098312 52.82045058 54.65345369]\n",
      " [55.4436651  45.65084884 49.33558553 42.60281681 54.83611948 46.79743583]\n",
      " [33.66006536 47.2546294  56.82429058 42.44997055 45.16635916 52.22068556]\n",
      " [54.14794548 36.95943723 59.48108943 52.50714237 55.05451843 44.11349   ]]\n"
     ]
    }
   ],
   "source": [
    "dists_no = np.zeros((num_test, num_train))\n",
    "X_2 = np.tile(np.sum(X_test * X_test, axis=1).reshape((num_test,1)), (1, num_train))\n",
    "A_2 = np.tile(np.sum(X_train * X_train, axis=1), (num_test, 1))\n",
    "X_A = 2 * (X_test @ X_train.T)\n",
    "dists_no = np.sqrt(X_2 - X_A + A_2)\n",
    "print(dists_no)"
   ]
  },
  {
   "cell_type": "code",
   "execution_count": 97,
   "id": "39ec35ff",
   "metadata": {},
   "outputs": [
    {
     "data": {
      "text/plain": [
       "(array([[ 3.36749165,  6.7037303 , 11.84651848,  6.33561362],\n",
       "        [ 0.        ,  3.46410162,  8.66025404,  3.        ],\n",
       "        [ 3.46410162,  0.        ,  5.19615242,  1.        ]]),\n",
       " array([[ 3.36749165,  6.7037303 , 11.84651848,  6.33561362],\n",
       "        [ 0.        ,  3.46410162,  8.66025404,  3.        ],\n",
       "        [ 3.46410162,  0.        ,  5.19615242,  1.        ]]),\n",
       " array([[ 3.36749165,  6.7037303 , 11.84651848,  6.33561362],\n",
       "        [ 0.        ,  3.46410162,  8.66025404,  3.        ],\n",
       "        [ 3.46410162,  0.        ,  5.19615242,  1.        ]]))"
      ]
     },
     "execution_count": 97,
     "metadata": {},
     "output_type": "execute_result"
    }
   ],
   "source": [
    "dists_1, dists_2, dists_no"
   ]
  },
  {
   "cell_type": "code",
   "execution_count": null,
   "id": "ca9c841d",
   "metadata": {},
   "outputs": [],
   "source": []
  },
  {
   "cell_type": "code",
   "execution_count": null,
   "id": "b3e0803c",
   "metadata": {},
   "outputs": [],
   "source": []
  }
 ],
 "metadata": {
  "kernelspec": {
   "display_name": "Python 3 (ipykernel)",
   "language": "python",
   "name": "python3"
  },
  "language_info": {
   "codemirror_mode": {
    "name": "ipython",
    "version": 3
   },
   "file_extension": ".py",
   "mimetype": "text/x-python",
   "name": "python",
   "nbconvert_exporter": "python",
   "pygments_lexer": "ipython3",
   "version": "3.10.9"
  }
 },
 "nbformat": 4,
 "nbformat_minor": 5
}
