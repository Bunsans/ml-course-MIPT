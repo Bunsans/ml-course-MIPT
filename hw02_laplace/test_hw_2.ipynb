{
 "cells": [
  {
   "cell_type": "code",
   "execution_count": 12,
   "id": "6c6520e3",
   "metadata": {
    "scrolled": true
   },
   "outputs": [
    {
     "name": "stdout",
     "output_type": "stream",
     "text": [
      "[ 5.5  7.  13. ]\n",
      "loc: [ 5.5  7.  13. ] \n",
      "scale: [ 4.5  5.  10. ]\n"
     ]
    }
   ],
   "source": [
    "import numpy as np\n",
    "features = np.array([[1,2,3], [10,12,23]])\n",
    "print(np.median(features, axis=0))\n",
    "loc = np.median(features, axis=0)\n",
    "scale = np.sum(np.abs(features - loc), axis=0) / features.shape[0]\n",
    "print(f\"loc: {loc} \\nscale: {scale}\")"
   ]
  },
  {
   "cell_type": "code",
   "execution_count": 14,
   "id": "e7a8da12",
   "metadata": {},
   "outputs": [
    {
     "name": "stdout",
     "output_type": "stream",
     "text": [
      "[ 4.5  5.  10. ]\n"
     ]
    }
   ],
   "source": [
    "        b = 0\n",
    "        for element in features:\n",
    "            b += np.abs(element - loc)\n",
    "        scale_ = 1./features.shape[0] * b\n",
    "        print(scale_)"
   ]
  },
  {
   "cell_type": "code",
   "execution_count": 15,
   "id": "4f396bc1",
   "metadata": {},
   "outputs": [
    {
     "data": {
      "text/plain": [
       "2"
      ]
     },
     "execution_count": 15,
     "metadata": {},
     "output_type": "execute_result"
    }
   ],
   "source": [
    "features.shape[0]"
   ]
  },
  {
   "cell_type": "code",
   "execution_count": 18,
   "id": "bb3625ba",
   "metadata": {},
   "outputs": [
    {
     "name": "stdout",
     "output_type": "stream",
     "text": [
      "[[-3.19722458 -3.30258509 -3.99573227]\n",
      " [-3.19722458 -3.30258509 -3.99573227]]\n"
     ]
    }
   ],
   "source": [
    "values = features\n",
    "res = np.log(1 / (2 * scale)) + (-np.abs(values - loc) / scale)\n",
    "print(res)"
   ]
  },
  {
   "cell_type": "code",
   "execution_count": 20,
   "id": "e80eccfe",
   "metadata": {},
   "outputs": [
    {
     "name": "stdout",
     "output_type": "stream",
     "text": [
      "[[-3.19722458 -3.30258509 -3.99573227]\n",
      " [-3.19722458 -3.30258509 -3.99573227]]\n"
     ]
    }
   ],
   "source": [
    "######\n",
    "ret = []\n",
    "for value in values:\n",
    "    ret_i = []\n",
    "    for value_i, mu_i, b_i in zip(value, loc, scale_):\n",
    "        ret_i.append(-np.log(2 * b_i) - np.abs(value_i - mu_i) / b_i)\n",
    "    ret.append(np.array(ret_i))\n",
    "print(np.array(ret))"
   ]
  },
  {
   "cell_type": "code",
   "execution_count": null,
   "id": "5a62665a",
   "metadata": {},
   "outputs": [],
   "source": []
  }
 ],
 "metadata": {
  "kernelspec": {
   "display_name": "Python 3 (ipykernel)",
   "language": "python",
   "name": "python3"
  },
  "language_info": {
   "codemirror_mode": {
    "name": "ipython",
    "version": 3
   },
   "file_extension": ".py",
   "mimetype": "text/x-python",
   "name": "python",
   "nbconvert_exporter": "python",
   "pygments_lexer": "ipython3",
   "version": "3.10.9"
  }
 },
 "nbformat": 4,
 "nbformat_minor": 5
}
