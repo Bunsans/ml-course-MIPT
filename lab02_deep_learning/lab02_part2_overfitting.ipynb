{
  "cells": [
    {
      "cell_type": "markdown",
      "metadata": {
        "id": "NFmOh482SyEF"
      },
      "source": [
        "## Lab 2\n",
        "### Part 2: Dealing with overfitting"
      ]
    },
    {
      "cell_type": "markdown",
      "metadata": {
        "id": "AjzAuO3oSvsI"
      },
      "source": [
        "Today we work with [Fashion-MNIST dataset](https://github.com/zalandoresearch/fashion-mnist) (*hint: it is available in `torchvision`*).\n",
        "\n",
        "Your goal for today:\n",
        "1. Train a FC (fully-connected) network that achieves >= 0.885 test accuracy.\n",
        "2. Cause considerable overfitting by modifying the network (e.g. increasing the number of network parameters and/or layers) and demonstrate in in the appropriate way (e.g. plot loss and accurasy on train and validation set w.r.t. network complexity).\n",
        "3. Try to deal with overfitting (at least partially) by using regularization techniques (Dropout/Batchnorm/...) and demonstrate the results.\n",
        "\n",
        "__Please, write a small report describing your ideas, tries and achieved results in the end of this file.__\n",
        "\n",
        "*Note*: Tasks 2 and 3 are interrelated, in task 3 your goal is to make the network from task 2 less prone to overfitting. Task 1 is independent from 2 and 3.\n",
        "\n",
        "*Note 2*: We recomment to use Google Colab or other machine with GPU acceleration."
      ]
    },
    {
      "cell_type": "code",
      "execution_count": null,
      "metadata": {
        "id": "_KBld6VOSwhW"
      },
      "outputs": [],
      "source": [
        "import torch\n",
        "import torch.nn as nn\n",
        "import torchvision\n",
        "import torchvision.transforms as transforms\n",
        "import torchsummary\n",
        "from IPython.display import clear_output\n",
        "from matplotlib import pyplot as plt\n",
        "from matplotlib.pyplot import figure\n",
        "import numpy as np\n",
        "import os\n",
        "\n",
        "\n",
        "device = 'cuda' if torch.cuda.is_available() else 'cpu'"
      ]
    },
    {
      "cell_type": "code",
      "source": [
        "device = 'cpu'"
      ],
      "metadata": {
        "id": "NmdMc_CAp6UY"
      },
      "execution_count": null,
      "outputs": []
    },
    {
      "cell_type": "code",
      "execution_count": null,
      "metadata": {
        "colab": {
          "base_uri": "https://localhost:8080/"
        },
        "id": "EdLOG0XqS_g5",
        "outputId": "650b2d85-6323-4604-f89d-ee0d3ae7d77e"
      },
      "outputs": [
        {
          "output_type": "stream",
          "name": "stdout",
          "text": [
            "Directory fmnist is created!\n"
          ]
        }
      ],
      "source": [
        "# Technical function\n",
        "def mkdir(path):\n",
        "    if not os.path.exists(root_path):\n",
        "        os.mkdir(root_path)\n",
        "        print('Directory', path, 'is created!')\n",
        "    else:\n",
        "        print('Directory', path, 'already exists!')\n",
        "\n",
        "root_path = 'fmnist'\n",
        "mkdir(root_path)"
      ]
    },
    {
      "cell_type": "code",
      "execution_count": null,
      "metadata": {
        "colab": {
          "base_uri": "https://localhost:8080/"
        },
        "id": "qt6LE7XaTDT9",
        "outputId": "0a1955ce-3dfb-47ca-a24f-455df9ed055b"
      },
      "outputs": [
        {
          "output_type": "stream",
          "name": "stdout",
          "text": [
            "Downloading http://fashion-mnist.s3-website.eu-central-1.amazonaws.com/train-images-idx3-ubyte.gz\n",
            "Downloading http://fashion-mnist.s3-website.eu-central-1.amazonaws.com/train-images-idx3-ubyte.gz to fmnist/FashionMNIST/raw/train-images-idx3-ubyte.gz\n"
          ]
        },
        {
          "output_type": "stream",
          "name": "stderr",
          "text": [
            "100%|██████████| 26421880/26421880 [00:01<00:00, 13676851.85it/s]\n"
          ]
        },
        {
          "output_type": "stream",
          "name": "stdout",
          "text": [
            "Extracting fmnist/FashionMNIST/raw/train-images-idx3-ubyte.gz to fmnist/FashionMNIST/raw\n",
            "\n",
            "Downloading http://fashion-mnist.s3-website.eu-central-1.amazonaws.com/train-labels-idx1-ubyte.gz\n",
            "Downloading http://fashion-mnist.s3-website.eu-central-1.amazonaws.com/train-labels-idx1-ubyte.gz to fmnist/FashionMNIST/raw/train-labels-idx1-ubyte.gz\n"
          ]
        },
        {
          "output_type": "stream",
          "name": "stderr",
          "text": [
            "100%|██████████| 29515/29515 [00:00<00:00, 228650.21it/s]\n"
          ]
        },
        {
          "output_type": "stream",
          "name": "stdout",
          "text": [
            "Extracting fmnist/FashionMNIST/raw/train-labels-idx1-ubyte.gz to fmnist/FashionMNIST/raw\n",
            "\n",
            "Downloading http://fashion-mnist.s3-website.eu-central-1.amazonaws.com/t10k-images-idx3-ubyte.gz\n",
            "Downloading http://fashion-mnist.s3-website.eu-central-1.amazonaws.com/t10k-images-idx3-ubyte.gz to fmnist/FashionMNIST/raw/t10k-images-idx3-ubyte.gz\n"
          ]
        },
        {
          "output_type": "stream",
          "name": "stderr",
          "text": [
            "100%|██████████| 4422102/4422102 [00:01<00:00, 4305079.85it/s]\n"
          ]
        },
        {
          "output_type": "stream",
          "name": "stdout",
          "text": [
            "Extracting fmnist/FashionMNIST/raw/t10k-images-idx3-ubyte.gz to fmnist/FashionMNIST/raw\n",
            "\n",
            "Downloading http://fashion-mnist.s3-website.eu-central-1.amazonaws.com/t10k-labels-idx1-ubyte.gz\n",
            "Downloading http://fashion-mnist.s3-website.eu-central-1.amazonaws.com/t10k-labels-idx1-ubyte.gz to fmnist/FashionMNIST/raw/t10k-labels-idx1-ubyte.gz\n"
          ]
        },
        {
          "output_type": "stream",
          "name": "stderr",
          "text": [
            "100%|██████████| 5148/5148 [00:00<00:00, 19074449.64it/s]"
          ]
        },
        {
          "output_type": "stream",
          "name": "stdout",
          "text": [
            "Extracting fmnist/FashionMNIST/raw/t10k-labels-idx1-ubyte.gz to fmnist/FashionMNIST/raw\n",
            "\n"
          ]
        },
        {
          "output_type": "stream",
          "name": "stderr",
          "text": [
            "\n"
          ]
        }
      ],
      "source": [
        "download = True\n",
        "train_transform = transforms.ToTensor()\n",
        "test_transform = transforms.ToTensor()\n",
        "transforms.Compose((transforms.ToTensor()))\n",
        "\n",
        "\n",
        "fmnist_dataset_train = torchvision.datasets.FashionMNIST(root_path,\n",
        "                                                        train=True,\n",
        "                                                        transform=train_transform,\n",
        "                                                        target_transform=None,\n",
        "                                                        download=download)\n",
        "fmnist_dataset_test = torchvision.datasets.FashionMNIST(root_path,\n",
        "                                                       train=False,\n",
        "                                                       transform=test_transform,\n",
        "                                                       target_transform=None,\n",
        "                                                       download=download)"
      ]
    },
    {
      "cell_type": "code",
      "execution_count": null,
      "metadata": {
        "id": "71YP0SPwTIxD"
      },
      "outputs": [],
      "source": [
        "train_loader = torch.utils.data.DataLoader(fmnist_dataset_train,\n",
        "                                           batch_size=128,\n",
        "                                           shuffle=True,\n",
        "                                           num_workers=2)\n",
        "\n",
        "val_loader = torch.utils.data.DataLoader(fmnist_dataset_test,\n",
        "                                          batch_size=256,\n",
        "                                          shuffle=False,\n",
        "                                          num_workers=2)\n",
        "\n",
        "test_loader = torch.utils.data.DataLoader(fmnist_dataset_test,\n",
        "                                          batch_size=256,\n",
        "                                          shuffle=False,\n",
        "                                          num_workers=2)"
      ]
    },
    {
      "cell_type": "code",
      "execution_count": null,
      "metadata": {
        "colab": {
          "base_uri": "https://localhost:8080/"
        },
        "id": "v_YFmF7NTWrQ",
        "outputId": "d51da374-ec1d-47a0-c586-fb1932f24daf"
      },
      "outputs": [
        {
          "output_type": "execute_result",
          "data": {
            "text/plain": [
              "10000"
            ]
          },
          "metadata": {},
          "execution_count": 8
        }
      ],
      "source": [
        "len(fmnist_dataset_test)"
      ]
    },
    {
      "cell_type": "code",
      "execution_count": null,
      "metadata": {
        "colab": {
          "base_uri": "https://localhost:8080/"
        },
        "id": "aHca15bOTY4B",
        "outputId": "94020ce8-29e4-4c8d-e8e4-9d9bd195fdac"
      },
      "outputs": [
        {
          "output_type": "stream",
          "name": "stdout",
          "text": [
            "torch.Size([128, 1, 28, 28])\n",
            "torch.Size([128])\n",
            "128\n"
          ]
        }
      ],
      "source": [
        "for img, label in train_loader:\n",
        "    print(img.shape)\n",
        "#     print(img)\n",
        "    print(label.shape)\n",
        "    print(label.size(0))\n",
        "    break"
      ]
    },
    {
      "cell_type": "markdown",
      "metadata": {
        "id": "b6OOOffHTfX5"
      },
      "source": [
        "### Task 1\n",
        "Train a network that achieves $\\geq 0.885$ test accuracy. It's fine to use only Linear (`nn.Linear`) layers and activations/dropout/batchnorm. Convolutional layers might be a great use, but we will meet them a bit later."
      ]
    },
    {
      "cell_type": "code",
      "execution_count": null,
      "metadata": {
        "id": "ftpkTjxlTcFx"
      },
      "outputs": [],
      "source": [
        "class TinyNeuralNetwork(nn.Module):\n",
        "    def __init__(self, input_shape=28*28, num_classes=10, input_channels=1):\n",
        "        super(self.__class__, self).__init__()\n",
        "        self.model = nn.Sequential(\n",
        "            nn.Flatten(), # This layer converts image into a vector to use Linear layers afterwards\n",
        "            # Your network structure comes here\n",
        "            nn.Linear(input_shape, 196),\n",
        "            nn.BatchNorm1d(196),\n",
        "            nn.ReLU(inplace=True),\n",
        "            nn.Dropout(p=0.3),\n",
        "            nn.Linear(196, 49),\n",
        "            nn.BatchNorm1d(49),\n",
        "            nn.ReLU(inplace=True),\n",
        "            nn.Linear(49, 10)\n",
        "        )\n",
        "\n",
        "    def forward(self, inp):\n",
        "        out = self.model(inp)\n",
        "        return out"
      ]
    },
    {
      "cell_type": "code",
      "execution_count": null,
      "metadata": {
        "colab": {
          "base_uri": "https://localhost:8080/"
        },
        "id": "LLJCtiSJlf3L",
        "outputId": "1f316083-d277-493d-ccf0-466a08275a5c"
      },
      "outputs": [
        {
          "output_type": "stream",
          "name": "stdout",
          "text": [
            "----------------------------------------------------------------\n",
            "        Layer (type)               Output Shape         Param #\n",
            "================================================================\n",
            "           Flatten-1                  [-1, 784]               0\n",
            "            Linear-2                  [-1, 196]         153,860\n",
            "       BatchNorm1d-3                  [-1, 196]             392\n",
            "              ReLU-4                  [-1, 196]               0\n",
            "           Dropout-5                  [-1, 196]               0\n",
            "            Linear-6                   [-1, 49]           9,653\n",
            "       BatchNorm1d-7                   [-1, 49]              98\n",
            "              ReLU-8                   [-1, 49]               0\n",
            "            Linear-9                   [-1, 10]             500\n",
            "================================================================\n",
            "Total params: 164,503\n",
            "Trainable params: 164,503\n",
            "Non-trainable params: 0\n",
            "----------------------------------------------------------------\n",
            "Input size (MB): 0.00\n",
            "Forward/backward pass size (MB): 0.01\n",
            "Params size (MB): 0.63\n",
            "Estimated Total Size (MB): 0.64\n",
            "----------------------------------------------------------------\n"
          ]
        }
      ],
      "source": [
        "torchsummary.summary(TinyNeuralNetwork().to(device), (28*28,))"
      ]
    },
    {
      "cell_type": "markdown",
      "metadata": {
        "id": "544PGKEnjPr5"
      },
      "source": [
        "Your experiments come here:"
      ]
    },
    {
      "cell_type": "markdown",
      "source": [
        "Напишем функцию для обучения модели, рисования графиков loss и accuracy от эпохи и функцию для высчитывания accuracy"
      ],
      "metadata": {
        "id": "Re7Adivdi9gd"
      }
    },
    {
      "cell_type": "code",
      "source": [
        "import torch.optim as optim\n",
        "from tqdm.notebook import tqdm\n",
        "from torch import tensor\n",
        "import seaborn as sns\n",
        "from sklearn.metrics import accuracy_score\n",
        "\n",
        "def train_model(model, train_loader, test_loader, loss_func, opt, num_epochs):\n",
        "    loss_history = []\n",
        "    loss_val_history = []\n",
        "    train_acc_history = []\n",
        "    val_acc_history = []\n",
        "\n",
        "    for n, epoch in enumerate(tqdm(range(num_epochs))):\n",
        "        print(f'Epoch {epoch+1}/{num_epochs}')\n",
        "        model.train() # Enter train mode\n",
        "\n",
        "        acc_batches=[]\n",
        "        loss_batches=[]\n",
        "\n",
        "        for i, (x_batch, y_batch) in enumerate(train_loader):\n",
        "            x_batch = x_batch.to(device)\n",
        "            y_batch = y_batch.to(device)\n",
        "\n",
        "            prediction = model.forward(x_batch)\n",
        "            loss_value = loss_func(prediction, y_batch)\n",
        "\n",
        "            test_acc = accuracy_score(prediction.argmax(axis=1), y_batch)\n",
        "            acc_batches.append(test_acc)\n",
        "\n",
        "            opt.zero_grad(set_to_none=True)\n",
        "            loss_value.backward()\n",
        "            opt.step()\n",
        "\n",
        "            loss_batches.append(loss_value.detach().numpy())\n",
        "\n",
        "        loss_history.append(np.mean(loss_batches))\n",
        "        train_acc_history.append(np.mean(acc_batches))\n",
        "\n",
        "        model.eval()\n",
        "        with torch.no_grad():\n",
        "            val_acc_batches=[]\n",
        "            val_loss_batches=[]\n",
        "            for X_val, Y_val in val_loader:\n",
        "                X_val = X_val.to(device)\n",
        "                Y_val = Y_val.to(device)\n",
        "                val_predictions = model.forward(X_val)\n",
        "                val_loss = loss_func(val_predictions, Y_val)\n",
        "                val_loss_batches.append(val_loss)\n",
        "                val_acc = accuracy_score(val_predictions.argmax(axis=1), Y_val)\n",
        "                val_acc_batches.append(val_acc)\n",
        "\n",
        "        model.train()\n",
        "\n",
        "\n",
        "        val_acc_history.append(np.mean(val_acc_batches))\n",
        "        loss_val_history.append(np.mean(val_loss_batches))\n",
        "        print(f\"Average loss: {np.mean(loss_batches)}, Train accuracy: {np.mean(acc_batches)}, Val accuracy: {np.mean(val_acc_batches)}\")\n",
        "        print('-' * 75)\n",
        "\n",
        "    return loss_history, loss_val_history, train_acc_history, val_acc_history\n",
        "\n",
        "\n",
        "def plot_results(loss_history, loss_val_history, train_acc_history, val_acc_history):\n",
        "    fig, ax = plt.subplots(ncols=2, nrows=1, figsize=(20, 8))\n",
        "    ax[0].grid()\n",
        "    ax[0].plot(loss_history, lw=3, color=sns.color_palette()[0])\n",
        "    ax[0].plot(loss_val_history, lw=3, color=sns.color_palette()[3])\n",
        "\n",
        "    ax[0].set_xlabel('epoch', fontsize=18)\n",
        "    ax[0].set_ylabel('loss', fontsize=18)\n",
        "    ax[0].set_title(\"Average loss on train\", fontsize=20)\n",
        "\n",
        "    ax[0].tick_params(axis='both', labelsize=16)\n",
        "    ax[1].grid()\n",
        "    ax[1].plot(train_acc_history, lw=3, color=sns.color_palette()[0],\n",
        "              label='Train')\n",
        "    ax[1].plot(val_acc_history, lw=3, color=sns.color_palette()[3],\n",
        "              label='Validation')\n",
        "\n",
        "    ax[1].set_title(\"Accuracy\", fontsize=20)\n",
        "    ax[1].set_xlabel('epoch', fontsize=18)\n",
        "    ax[1].set_ylabel('accuracy', fontsize=18)\n",
        "    ax[1].legend(shadow = True, fontsize=18, loc='upper left')\n",
        "    ax[1].tick_params(axis='both', labelsize=16)\n",
        "\n",
        "    plt.show()\n",
        "\n",
        "def test_accuracy(model):\n",
        "    model.eval()\n",
        "    test_acc_batches = []\n",
        "    for X_test, Y_test in test_loader:\n",
        "        X_test = X_test.to(device)\n",
        "        Y_test = Y_test.to(device)\n",
        "        test_predictions = model.forward(X_test)\n",
        "        test_acc = accuracy_score(test_predictions.argmax(axis=1), Y_test)\n",
        "        test_acc_batches.append(test_acc)\n",
        "\n",
        "    print(f'\\nTest accuracy {np.mean(test_acc_batches)}')"
      ],
      "metadata": {
        "id": "dUk8rnHXt3L7"
      },
      "execution_count": null,
      "outputs": []
    },
    {
      "cell_type": "code",
      "source": [
        "# device = 'cpu'"
      ],
      "metadata": {
        "id": "vLetDk9U07O3"
      },
      "execution_count": null,
      "outputs": []
    },
    {
      "cell_type": "code",
      "execution_count": null,
      "metadata": {
        "colab": {
          "base_uri": "https://localhost:8080/",
          "height": 1000,
          "referenced_widgets": [
            "59e318dd5feb4930b21489bdbc367a10",
            "4105ebb992ba4ee1871c0dc0884bfa63",
            "671afffeb2844c1a8d14dfadc618f89e",
            "a1f57b5b21224a5b88b93ddd9310fd5b",
            "03f960dafc4e4f6ea926e9ba4414eb27",
            "7f48af7c48e94ac29b870e7ff559fa1f",
            "eb31e5cfb52a4e24a170c1269b7d7f11",
            "f16541f2935d436bb30125250482c770",
            "3c7cb8c6976845e9a4f860ae7c66eb49",
            "4dea77238e504f78a68369d8a84936cc",
            "bd17ed1c19354fa88c2229893d4db729"
          ]
        },
        "id": "i3POFj90Ti-6",
        "outputId": "12d59afe-4285-4c95-d60e-92ab9e963a24"
      },
      "outputs": [
        {
          "output_type": "display_data",
          "data": {
            "text/plain": [
              "  0%|          | 0/20 [00:00<?, ?it/s]"
            ],
            "application/vnd.jupyter.widget-view+json": {
              "version_major": 2,
              "version_minor": 0,
              "model_id": "59e318dd5feb4930b21489bdbc367a10"
            }
          },
          "metadata": {}
        },
        {
          "output_type": "stream",
          "name": "stdout",
          "text": [
            "Epoch 1/20\n",
            "Average loss: 0.5589266419410706, Train accuracy: 0.7944873845060412, Val accuracy: 0.8404296875\n",
            "---------------------------------------------------------------------------\n",
            "Epoch 2/20\n",
            "Average loss: 0.44177255034446716, Train accuracy: 0.8396022121535182, Val accuracy: 0.85810546875\n",
            "---------------------------------------------------------------------------\n",
            "Epoch 3/20\n",
            "Average loss: 0.4024937152862549, Train accuracy: 0.8531727523098791, Val accuracy: 0.8615234375\n",
            "---------------------------------------------------------------------------\n",
            "Epoch 4/20\n",
            "Average loss: 0.3771452009677887, Train accuracy: 0.8617570628997868, Val accuracy: 0.85712890625\n",
            "---------------------------------------------------------------------------\n",
            "Epoch 5/20\n",
            "Average loss: 0.3621886670589447, Train accuracy: 0.8668876599147122, Val accuracy: 0.8681640625\n",
            "---------------------------------------------------------------------------\n",
            "Epoch 6/20\n",
            "Average loss: 0.3465869724750519, Train accuracy: 0.8732120646766168, Val accuracy: 0.87314453125\n",
            "---------------------------------------------------------------------------\n",
            "Epoch 7/20\n",
            "Average loss: 0.341176301240921, Train accuracy: 0.8745613450604122, Val accuracy: 0.8669921875\n",
            "---------------------------------------------------------------------------\n",
            "Epoch 8/20\n",
            "Average loss: 0.33094772696495056, Train accuracy: 0.8792866027007818, Val accuracy: 0.86953125\n",
            "---------------------------------------------------------------------------\n",
            "Epoch 9/20\n",
            "Average loss: 0.3171853721141815, Train accuracy: 0.882856920753376, Val accuracy: 0.8689453125\n",
            "---------------------------------------------------------------------------\n",
            "Epoch 10/20\n",
            "Average loss: 0.3097964823246002, Train accuracy: 0.886471659559346, Val accuracy: 0.876171875\n",
            "---------------------------------------------------------------------------\n",
            "Epoch 11/20\n",
            "Average loss: 0.304429829120636, Train accuracy: 0.8879542022032694, Val accuracy: 0.8693359375\n",
            "---------------------------------------------------------------------------\n",
            "Epoch 12/20\n",
            "Average loss: 0.2975403666496277, Train accuracy: 0.8897699004975124, Val accuracy: 0.87900390625\n",
            "---------------------------------------------------------------------------\n",
            "Epoch 13/20\n",
            "Average loss: 0.2967109978199005, Train accuracy: 0.8893756663113006, Val accuracy: 0.8767578125\n",
            "---------------------------------------------------------------------------\n",
            "Epoch 14/20\n",
            "Average loss: 0.29228317737579346, Train accuracy: 0.8924906716417911, Val accuracy: 0.8798828125\n",
            "---------------------------------------------------------------------------\n",
            "Epoch 15/20\n",
            "Average loss: 0.2812001705169678, Train accuracy: 0.8958499911158493, Val accuracy: 0.88291015625\n",
            "---------------------------------------------------------------------------\n",
            "Epoch 16/20\n",
            "Average loss: 0.27819332480430603, Train accuracy: 0.8960720948827292, Val accuracy: 0.88359375\n",
            "---------------------------------------------------------------------------\n",
            "Epoch 17/20\n",
            "Average loss: 0.277157723903656, Train accuracy: 0.8974602434257285, Val accuracy: 0.87783203125\n",
            "---------------------------------------------------------------------------\n",
            "Epoch 18/20\n",
            "Average loss: 0.271987646818161, Train accuracy: 0.8996146499644634, Val accuracy: 0.8822265625\n",
            "---------------------------------------------------------------------------\n",
            "Epoch 19/20\n",
            "Average loss: 0.2677430808544159, Train accuracy: 0.9000810678749112, Val accuracy: 0.88115234375\n",
            "---------------------------------------------------------------------------\n",
            "Epoch 20/20\n",
            "Average loss: 0.26640617847442627, Train accuracy: 0.9021743958777542, Val accuracy: 0.8857421875\n",
            "---------------------------------------------------------------------------\n"
          ]
        }
      ],
      "source": [
        "# Your experiments, training and validation loops here\n",
        "\n",
        "\n",
        "\n",
        "model = TinyNeuralNetwork().to(device)\n",
        "opt = optim.Adam(model.parameters(), betas=(0.9, 0.99),\n",
        "                lr=5e-2, weight_decay=1e-8)# YOUR CODE HERE\n",
        "loss_func = nn.CrossEntropyLoss().type(torch.FloatTensor)\n",
        " # YOUR CODE HERE\n",
        "\n",
        "num_epochs = 20\n",
        "loss_history, loss_val_history, train_acc_history, val_acc_history = train_model(model,\n",
        "                                                       train_loader,\n",
        "                                                       test_loader,\n",
        "                                                       loss_func,\n",
        "                                                       opt,\n",
        "                                                       num_epochs)"
      ]
    },
    {
      "cell_type": "code",
      "source": [
        "\n",
        "plot_results(loss_history, loss_val_history, train_acc_history, val_acc_history)\n"
      ],
      "metadata": {
        "id": "6UEyI6Jr7deY"
      },
      "execution_count": null,
      "outputs": []
    },
    {
      "cell_type": "code",
      "source": [
        "test_accuracy(model)\n"
      ],
      "metadata": {
        "colab": {
          "base_uri": "https://localhost:8080/"
        },
        "id": "b0i84fH46Cf9",
        "outputId": "5684cf00-f69b-4a94-8e65-9e1fe30e06ba"
      },
      "execution_count": null,
      "outputs": [
        {
          "output_type": "stream",
          "name": "stdout",
          "text": [
            "\n",
            "Test accuracy 0.8857421875\n"
          ]
        }
      ]
    },
    {
      "cell_type": "markdown",
      "metadata": {
        "id": "L7ISqkjmCPB1"
      },
      "source": [
        "### Task 2: Overfit it.\n",
        "Build a network that will overfit to this dataset. Demonstrate the overfitting in the appropriate way (e.g. plot loss and accurasy on train and test set w.r.t. network complexity).\n",
        "\n",
        "*Note:* you also might decrease the size of `train` dataset to enforce the overfitting and speed up the computations."
      ]
    },
    {
      "cell_type": "markdown",
      "source": [
        "Уберем batchnorm и dropout. Добавим побольше слоев и больше эпох."
      ],
      "metadata": {
        "id": "0CuYkMuNhvCB"
      }
    },
    {
      "cell_type": "code",
      "execution_count": null,
      "metadata": {
        "id": "H12uAWiGBwJx"
      },
      "outputs": [],
      "source": [
        "class OverfittingNeuralNetwork(nn.Module):\n",
        "    def __init__(self, input_shape=28*28, num_classes=10, input_channels=1):\n",
        "        super(self.__class__, self).__init__()\n",
        "        self.model = nn.Sequential(\n",
        "            nn.Flatten(), # This layer converts image into a vector to use Linear layers afterwards\n",
        "            # Your network structure comes here\n",
        "            nn.Linear(input_shape, 600),\n",
        "            nn.ReLU(),\n",
        "            nn.Linear(600, 400),\n",
        "            nn.ReLU(),\n",
        "            nn.Linear(400, 128),\n",
        "            nn.ReLU(),\n",
        "            nn.Linear(128, 32),\n",
        "            nn.ReLU(),\n",
        "            nn.Linear(32, num_classes)\n",
        "        )\n",
        "\n",
        "    def forward(self, inp):\n",
        "        out = self.model(inp)\n",
        "        return out"
      ]
    },
    {
      "cell_type": "code",
      "execution_count": null,
      "metadata": {
        "colab": {
          "base_uri": "https://localhost:8080/"
        },
        "id": "JgXAKCpvCwqH",
        "outputId": "2f42d960-c17d-4732-97a1-a2ed407ec424"
      },
      "outputs": [
        {
          "output_type": "stream",
          "name": "stdout",
          "text": [
            "----------------------------------------------------------------\n",
            "        Layer (type)               Output Shape         Param #\n",
            "================================================================\n",
            "           Flatten-1                  [-1, 784]               0\n",
            "            Linear-2                  [-1, 600]         471,000\n",
            "              ReLU-3                  [-1, 600]               0\n",
            "            Linear-4                  [-1, 400]         240,400\n",
            "              ReLU-5                  [-1, 400]               0\n",
            "            Linear-6                  [-1, 128]          51,328\n",
            "              ReLU-7                  [-1, 128]               0\n",
            "            Linear-8                   [-1, 32]           4,128\n",
            "              ReLU-9                   [-1, 32]               0\n",
            "           Linear-10                   [-1, 10]             330\n",
            "================================================================\n",
            "Total params: 767,186\n",
            "Trainable params: 767,186\n",
            "Non-trainable params: 0\n",
            "----------------------------------------------------------------\n",
            "Input size (MB): 0.00\n",
            "Forward/backward pass size (MB): 0.02\n",
            "Params size (MB): 2.93\n",
            "Estimated Total Size (MB): 2.95\n",
            "----------------------------------------------------------------\n"
          ]
        }
      ],
      "source": [
        "torchsummary.summary(OverfittingNeuralNetwork().to(device), (28*28,))"
      ]
    },
    {
      "cell_type": "code",
      "execution_count": null,
      "metadata": {
        "colab": {
          "base_uri": "https://localhost:8080/",
          "height": 1000,
          "referenced_widgets": [
            "d470868593b74398990499bacc1701bb",
            "378d4e9e761a4a68ab839732eb57e4e1",
            "7191397cbb6c497b8f4b6ff278ab1a71",
            "82d7386370c3494c8055fbfe1ad8b32c",
            "5f32d2cdf9fc4b2dadc4af66c2a5eaf4",
            "2fc8ae8557d54ca383da27354b1755af",
            "6f5571d5ce0143baa7187fdb5b09a6e5",
            "76d2b5772d714ec5a3f6a6ab4c8f9d1f",
            "5737b8b8835a433780c12465cb178084",
            "77d6701152de488ea1e3e3bdf9d68e58",
            "d30f09eac1b44f589b1994a42803663d"
          ]
        },
        "id": "yu1MP_Bklf3P",
        "outputId": "b880916b-23e2-4766-f811-611edccfb537"
      },
      "outputs": [
        {
          "output_type": "display_data",
          "data": {
            "text/plain": [
              "  0%|          | 0/35 [00:00<?, ?it/s]"
            ],
            "application/vnd.jupyter.widget-view+json": {
              "version_major": 2,
              "version_minor": 0,
              "model_id": "d470868593b74398990499bacc1701bb"
            }
          },
          "metadata": {}
        },
        {
          "output_type": "stream",
          "name": "stdout",
          "text": [
            "Epoch 1/35\n",
            "Average loss: 0.6063686609268188, Train accuracy: 0.775403118336887, Val accuracy: 0.821875\n",
            "---------------------------------------------------------------------------\n",
            "Epoch 2/35\n",
            "Average loss: 0.41880372166633606, Train accuracy: 0.853517013148543, Val accuracy: 0.8431640625\n",
            "---------------------------------------------------------------------------\n",
            "Epoch 3/35\n",
            "Average loss: 0.38265350461006165, Train accuracy: 0.8655550373134329, Val accuracy: 0.84208984375\n",
            "---------------------------------------------------------------------------\n",
            "Epoch 4/35\n",
            "Average loss: 0.37160414457321167, Train accuracy: 0.8681314410092394, Val accuracy: 0.86708984375\n",
            "---------------------------------------------------------------------------\n",
            "Epoch 5/35\n",
            "Average loss: 0.3564448654651642, Train accuracy: 0.8736285092395166, Val accuracy: 0.8650390625\n",
            "---------------------------------------------------------------------------\n",
            "Epoch 6/35\n",
            "Average loss: 0.34862399101257324, Train accuracy: 0.8779206645344706, Val accuracy: 0.86142578125\n",
            "---------------------------------------------------------------------------\n",
            "Epoch 7/35\n",
            "Average loss: 0.33869069814682007, Train accuracy: 0.8792810501066098, Val accuracy: 0.86044921875\n",
            "---------------------------------------------------------------------------\n",
            "Epoch 8/35\n",
            "Average loss: 0.32875293493270874, Train accuracy: 0.8843061478322672, Val accuracy: 0.8755859375\n",
            "---------------------------------------------------------------------------\n",
            "Epoch 9/35\n",
            "Average loss: 0.3282524645328522, Train accuracy: 0.883051261549396, Val accuracy: 0.86181640625\n",
            "---------------------------------------------------------------------------\n",
            "Epoch 10/35\n",
            "Average loss: 0.3219371438026428, Train accuracy: 0.8861829246624023, Val accuracy: 0.8654296875\n",
            "---------------------------------------------------------------------------\n",
            "Epoch 11/35\n",
            "Average loss: 0.3159959316253662, Train accuracy: 0.888537224591329, Val accuracy: 0.8677734375\n",
            "---------------------------------------------------------------------------\n",
            "Epoch 12/35\n",
            "Average loss: 0.3166682720184326, Train accuracy: 0.8884428304904051, Val accuracy: 0.86884765625\n",
            "---------------------------------------------------------------------------\n",
            "Epoch 13/35\n",
            "Average loss: 0.30642804503440857, Train accuracy: 0.8915078624733476, Val accuracy: 0.8640625\n",
            "---------------------------------------------------------------------------\n",
            "Epoch 14/35\n",
            "Average loss: 0.3114357888698578, Train accuracy: 0.8919465174129354, Val accuracy: 0.87412109375\n",
            "---------------------------------------------------------------------------\n",
            "Epoch 15/35\n",
            "Average loss: 0.29962101578712463, Train accuracy: 0.8946950515280739, Val accuracy: 0.867578125\n",
            "---------------------------------------------------------------------------\n",
            "Epoch 16/35\n",
            "Average loss: 0.3056508004665375, Train accuracy: 0.8930181680881307, Val accuracy: 0.8763671875\n",
            "---------------------------------------------------------------------------\n",
            "Epoch 17/35\n",
            "Average loss: 0.30799397826194763, Train accuracy: 0.8939898720682303, Val accuracy: 0.869921875\n",
            "---------------------------------------------------------------------------\n",
            "Epoch 18/35\n",
            "Average loss: 0.30255061388015747, Train accuracy: 0.8949393656716418, Val accuracy: 0.86943359375\n",
            "---------------------------------------------------------------------------\n",
            "Epoch 19/35\n",
            "Average loss: 0.30379199981689453, Train accuracy: 0.8949393656716418, Val accuracy: 0.8728515625\n",
            "---------------------------------------------------------------------------\n",
            "Epoch 20/35\n",
            "Average loss: 0.3035232126712799, Train accuracy: 0.8927849591329069, Val accuracy: 0.87568359375\n",
            "---------------------------------------------------------------------------\n",
            "Epoch 21/35\n",
            "Average loss: 0.2997298538684845, Train accuracy: 0.8961553837953091, Val accuracy: 0.87998046875\n",
            "---------------------------------------------------------------------------\n",
            "Epoch 22/35\n",
            "Average loss: 0.29957684874534607, Train accuracy: 0.898420842217484, Val accuracy: 0.8646484375\n",
            "---------------------------------------------------------------------------\n",
            "Epoch 23/35\n",
            "Average loss: 0.2975713312625885, Train accuracy: 0.8991871002132196, Val accuracy: 0.876171875\n",
            "---------------------------------------------------------------------------\n",
            "Epoch 24/35\n",
            "Average loss: 0.29034027457237244, Train accuracy: 0.8983542110874201, Val accuracy: 0.87646484375\n",
            "---------------------------------------------------------------------------\n",
            "Epoch 25/35\n",
            "Average loss: 0.2946193218231201, Train accuracy: 0.9001421464108031, Val accuracy: 0.87109375\n",
            "---------------------------------------------------------------------------\n",
            "Epoch 26/35\n",
            "Average loss: 0.29964902997016907, Train accuracy: 0.8968216950959488, Val accuracy: 0.87978515625\n",
            "---------------------------------------------------------------------------\n",
            "Epoch 27/35\n",
            "Average loss: 0.30285799503326416, Train accuracy: 0.8981432125088842, Val accuracy: 0.879296875\n",
            "---------------------------------------------------------------------------\n",
            "Epoch 28/35\n",
            "Average loss: 0.296427845954895, Train accuracy: 0.8981210021321961, Val accuracy: 0.87685546875\n",
            "---------------------------------------------------------------------------\n",
            "Epoch 29/35\n",
            "Average loss: 0.2860589623451233, Train accuracy: 0.9020577914001422, Val accuracy: 0.8685546875\n",
            "---------------------------------------------------------------------------\n",
            "Epoch 30/35\n",
            "Average loss: 0.289296954870224, Train accuracy: 0.9021910536602701, Val accuracy: 0.86787109375\n",
            "---------------------------------------------------------------------------\n",
            "Epoch 31/35\n",
            "Average loss: 0.29488471150398254, Train accuracy: 0.9011527185501066, Val accuracy: 0.86650390625\n",
            "---------------------------------------------------------------------------\n",
            "Epoch 32/35\n",
            "Average loss: 0.29352831840515137, Train accuracy: 0.9006196695095949, Val accuracy: 0.86201171875\n",
            "---------------------------------------------------------------------------\n",
            "Epoch 33/35\n",
            "Average loss: 0.29382994771003723, Train accuracy: 0.9000366471215352, Val accuracy: 0.8662109375\n",
            "---------------------------------------------------------------------------\n",
            "Epoch 34/35\n",
            "Average loss: 0.27510571479797363, Train accuracy: 0.9035014658848614, Val accuracy: 0.8716796875\n",
            "---------------------------------------------------------------------------\n",
            "Epoch 35/35\n",
            "Average loss: 0.3272660970687866, Train accuracy: 0.8982875799573561, Val accuracy: 0.8728515625\n",
            "---------------------------------------------------------------------------\n"
          ]
        }
      ],
      "source": [
        "overfit_model = OverfittingNeuralNetwork().to(device)\n",
        "opt = optim.Adam(overfit_model.parameters(), lr=1e-2, betas=(0.9, 0.99), eps=1e-8)# YOUR CODE HERE\n",
        "loss_func = nn.CrossEntropyLoss().type(torch.FloatTensor) # YOUR CODE HERE\n",
        "#loss_func = nn.NLLLoss()\n",
        "# Your experiments, come here\n",
        "\n",
        "num_epochs = 35\n",
        "loss_history, loss_val_history, train_acc_history, val_acc_history = train_model(overfit_model,\n",
        "                                                       train_loader,\n",
        "                                                       test_loader,\n",
        "                                                       loss_func,\n",
        "                                                       opt,\n",
        "                                                       num_epochs)\n",
        "\n",
        "\n"
      ]
    },
    {
      "cell_type": "code",
      "source": [
        "#tmp_overfit = [loss_history.copy(), loss_val_history.copy(), train_acc_history.copy(), val_acc_history.copy()]"
      ],
      "metadata": {
        "id": "PfQKna2tYfRg"
      },
      "execution_count": null,
      "outputs": []
    },
    {
      "cell_type": "code",
      "source": [
        "\n",
        "plot_results(loss_history, loss_val_history, train_acc_history, val_acc_history)\n"
      ],
      "metadata": {
        "colab": {
          "base_uri": "https://localhost:8080/",
          "height": 561
        },
        "id": "kdcgMORMdjZo",
        "outputId": "eeb1b1ee-d803-4fe4-b66b-5cf2dceb2a50"
      },
      "execution_count": null,
      "outputs": [
        {
          "output_type": "display_data",
          "data": {
            "text/plain": [
              "<Figure size 2000x800 with 2 Axes>"
            ],
            "image/png": "[encoded data removed]"
          },
          "metadata": {}
        }
      ]
    },
    {
      "cell_type": "code",
      "source": [
        "test_accuracy(overfit_model)\n"
      ],
      "metadata": {
        "colab": {
          "base_uri": "https://localhost:8080/"
        },
        "id": "Q-BwTmu-UcKu",
        "outputId": "7aed06a6-5276-438d-daf8-2edbedcd6a49"
      },
      "execution_count": null,
      "outputs": [
        {
          "output_type": "stream",
          "name": "stdout",
          "text": [
            "\n",
            "Test accuracy 0.8728515625\n"
          ]
        }
      ]
    },
    {
      "cell_type": "markdown",
      "source": [
        "По графику видно что loss на трейне продолжает падать, в то время как на валидации начинает сильно возрастать, при этом accuracy на трейне растет, а на валидации падает, при этом на тесте мы получаем результат хуже предыдущей нейронки. Получили переобучение."
      ],
      "metadata": {
        "id": "IrzWTwt7iAYS"
      }
    },
    {
      "cell_type": "markdown",
      "metadata": {
        "id": "bqbA2lNplf3V"
      },
      "source": [
        "### Task 3: Fix it.\n",
        "Fix the overfitted network from the previous step (at least partially) by using regularization techniques (Dropout/Batchnorm/...) and demonstrate the results."
      ]
    },
    {
      "cell_type": "markdown",
      "source": [
        "Постараемся избавится от переобучения за счет классических методов регулеризации. Добавим после каждого слоя batchnorm и dropout. Откидывать связи при помощи dropout будем все меньше по мере продвижения по слоям."
      ],
      "metadata": {
        "id": "kcv03lpsidQW"
      }
    },
    {
      "cell_type": "code",
      "execution_count": null,
      "metadata": {
        "id": "kOGBnzUBlf3V"
      },
      "outputs": [],
      "source": [
        "class FixedNeuralNetwork(nn.Module):\n",
        "    def __init__(self, input_shape=28*28, num_classes=10, input_channels=1):\n",
        "        super(self.__class__, self).__init__()\n",
        "        self.model = nn.Sequential(\n",
        "            nn.Flatten(), # This layer converts image into a vector to use Linear layers afterwards\n",
        "            # Your network structure comes here\n",
        "            nn.Linear(input_shape, 600),\n",
        "            nn.BatchNorm1d(600),\n",
        "            nn.Dropout(p=0.6),\n",
        "            nn.ReLU(),\n",
        "            nn.Linear(600, 400),\n",
        "            nn.BatchNorm1d(400),\n",
        "            nn.ReLU(),\n",
        "            nn.Dropout(p=0.4),\n",
        "            nn.Linear(400, 128),\n",
        "            nn.BatchNorm1d(128),\n",
        "            nn.ReLU(),\n",
        "            nn.Dropout(p=0.4),\n",
        "            nn.Linear(128, 32),\n",
        "            nn.BatchNorm1d(32),\n",
        "            nn.ReLU(),\n",
        "            nn.Dropout(p=0.3),\n",
        "            nn.Linear(32, num_classes)\n",
        "        )\n",
        "\n",
        "    def forward(self, inp):\n",
        "        out = self.model(inp)\n",
        "        return out\n"
      ]
    },
    {
      "cell_type": "code",
      "execution_count": null,
      "metadata": {
        "colab": {
          "base_uri": "https://localhost:8080/"
        },
        "id": "GiDzGfFnlf3W",
        "outputId": "c0605ab5-295d-4154-ab82-33b40f69a473"
      },
      "outputs": [
        {
          "output_type": "stream",
          "name": "stdout",
          "text": [
            "----------------------------------------------------------------\n",
            "        Layer (type)               Output Shape         Param #\n",
            "================================================================\n",
            "           Flatten-1                  [-1, 784]               0\n",
            "            Linear-2                  [-1, 600]         471,000\n",
            "       BatchNorm1d-3                  [-1, 600]           1,200\n",
            "           Dropout-4                  [-1, 600]               0\n",
            "              ReLU-5                  [-1, 600]               0\n",
            "            Linear-6                  [-1, 400]         240,400\n",
            "       BatchNorm1d-7                  [-1, 400]             800\n",
            "              ReLU-8                  [-1, 400]               0\n",
            "           Dropout-9                  [-1, 400]               0\n",
            "           Linear-10                  [-1, 128]          51,328\n",
            "      BatchNorm1d-11                  [-1, 128]             256\n",
            "             ReLU-12                  [-1, 128]               0\n",
            "          Dropout-13                  [-1, 128]               0\n",
            "           Linear-14                   [-1, 32]           4,128\n",
            "      BatchNorm1d-15                   [-1, 32]              64\n",
            "             ReLU-16                   [-1, 32]               0\n",
            "          Dropout-17                   [-1, 32]               0\n",
            "           Linear-18                   [-1, 10]             330\n",
            "================================================================\n",
            "Total params: 769,506\n",
            "Trainable params: 769,506\n",
            "Non-trainable params: 0\n",
            "----------------------------------------------------------------\n",
            "Input size (MB): 0.00\n",
            "Forward/backward pass size (MB): 0.04\n",
            "Params size (MB): 2.94\n",
            "Estimated Total Size (MB): 2.98\n",
            "----------------------------------------------------------------\n"
          ]
        }
      ],
      "source": [
        "torchsummary.summary(FixedNeuralNetwork().to(device), (28*28,))"
      ]
    },
    {
      "cell_type": "code",
      "execution_count": null,
      "metadata": {
        "colab": {
          "base_uri": "https://localhost:8080/",
          "height": 1000,
          "referenced_widgets": [
            "35970245ecf84bc3a75b0d0b8358c298",
            "53f52425409146f4a17162b79602f0de",
            "c72108b46cd64a2eb2569a78d22dc782",
            "14529550090f4277b20379f1266b7358",
            "42e901b2bcd64c4391baf544c7f7b81b",
            "c898c2a13f774a9da264d815aa364777",
            "09c0200dbb554f86971de6bf239433b7",
            "a0a8c981859a4931acb8dcda36c57593",
            "17409ee5a9f143cf89300350c87ae21d",
            "11f6819cb1fb4fb2b6383e26c6e028b2",
            "6b91205ac0be400f89125ce294eff30c"
          ]
        },
        "id": "N3cRh9_Rlf3W",
        "outputId": "36c67441-745e-42aa-dc31-c0e58dccf726"
      },
      "outputs": [
        {
          "output_type": "display_data",
          "data": {
            "text/plain": [
              "  0%|          | 0/20 [00:00<?, ?it/s]"
            ],
            "application/vnd.jupyter.widget-view+json": {
              "version_major": 2,
              "version_minor": 0,
              "model_id": "35970245ecf84bc3a75b0d0b8358c298"
            }
          },
          "metadata": {}
        },
        {
          "output_type": "stream",
          "name": "stdout",
          "text": [
            "Epoch 1/20\n",
            "Average loss: 0.7227960824966431, Train accuracy: 0.7452303216062544, Val accuracy: 0.8236328125\n",
            "---------------------------------------------------------------------------\n",
            "Epoch 2/20\n",
            "Average loss: 0.5444862842559814, Train accuracy: 0.8151985607675906, Val accuracy: 0.8494140625\n",
            "---------------------------------------------------------------------------\n",
            "Epoch 3/20\n",
            "Average loss: 0.4956982433795929, Train accuracy: 0.8307791400142147, Val accuracy: 0.8513671875\n",
            "---------------------------------------------------------------------------\n",
            "Epoch 4/20\n",
            "Average loss: 0.46457910537719727, Train accuracy: 0.8413623845060412, Val accuracy: 0.85732421875\n",
            "---------------------------------------------------------------------------\n",
            "Epoch 5/20\n",
            "Average loss: 0.4420889616012573, Train accuracy: 0.8486362828713575, Val accuracy: 0.86640625\n",
            "---------------------------------------------------------------------------\n",
            "Epoch 6/20\n",
            "Average loss: 0.42531511187553406, Train accuracy: 0.8551550284292821, Val accuracy: 0.8720703125\n",
            "---------------------------------------------------------------------------\n",
            "Epoch 7/20\n",
            "Average loss: 0.413950115442276, Train accuracy: 0.859491604477612, Val accuracy: 0.869921875\n",
            "---------------------------------------------------------------------------\n",
            "Epoch 8/20\n",
            "Average loss: 0.4030497670173645, Train accuracy: 0.861268434612651, Val accuracy: 0.8740234375\n",
            "---------------------------------------------------------------------------\n",
            "Epoch 9/20\n",
            "Average loss: 0.39402592182159424, Train accuracy: 0.8648498578535891, Val accuracy: 0.87861328125\n",
            "---------------------------------------------------------------------------\n",
            "Epoch 10/20\n",
            "Average loss: 0.38554278016090393, Train accuracy: 0.8686867004264393, Val accuracy: 0.87822265625\n",
            "---------------------------------------------------------------------------\n",
            "Epoch 11/20\n",
            "Average loss: 0.3786054849624634, Train accuracy: 0.8690031982942431, Val accuracy: 0.8806640625\n",
            "---------------------------------------------------------------------------\n",
            "Epoch 12/20\n",
            "Average loss: 0.36827966570854187, Train accuracy: 0.872978855721393, Val accuracy: 0.88515625\n",
            "---------------------------------------------------------------------------\n",
            "Epoch 13/20\n",
            "Average loss: 0.3648683726787567, Train accuracy: 0.8745946606254442, Val accuracy: 0.885546875\n",
            "---------------------------------------------------------------------------\n",
            "Epoch 14/20\n",
            "Average loss: 0.3585874140262604, Train accuracy: 0.8767712775408671, Val accuracy: 0.8826171875\n",
            "---------------------------------------------------------------------------\n",
            "Epoch 15/20\n",
            "Average loss: 0.3528423309326172, Train accuracy: 0.8797696783937456, Val accuracy: 0.88154296875\n",
            "---------------------------------------------------------------------------\n",
            "Epoch 16/20\n",
            "Average loss: 0.3486604392528534, Train accuracy: 0.8822239250177683, Val accuracy: 0.88935546875\n",
            "---------------------------------------------------------------------------\n",
            "Epoch 17/20\n",
            "Average loss: 0.3404041826725006, Train accuracy: 0.8833399964463396, Val accuracy: 0.8845703125\n",
            "---------------------------------------------------------------------------\n",
            "Epoch 18/20\n",
            "Average loss: 0.3412909209728241, Train accuracy: 0.8816964285714286, Val accuracy: 0.88701171875\n",
            "---------------------------------------------------------------------------\n",
            "Epoch 19/20\n",
            "Average loss: 0.3260266184806824, Train accuracy: 0.8873878375977257, Val accuracy: 0.8912109375\n",
            "---------------------------------------------------------------------------\n",
            "Epoch 20/20\n",
            "Average loss: 0.33296287059783936, Train accuracy: 0.884694829424307, Val accuracy: 0.89111328125\n",
            "---------------------------------------------------------------------------\n"
          ]
        }
      ],
      "source": [
        "fixed_model = FixedNeuralNetwork().to(device)\n",
        "opt = optim.Adam(fixed_model.parameters(), lr=1e-2, betas=(0.9, 0.99), eps=1e-8)# YOUR CODE HERE\n",
        "loss_func = nn.CrossEntropyLoss().type(torch.FloatTensor) # YOUR CODE HERE\n",
        "#loss_func = nn.NLLLoss()\n",
        "# Your experiments, come here\n",
        "\n",
        "num_epochs = 20\n",
        "loss_history, loss_val_history, train_acc_history, val_acc_history = train_model(fixed_model,\n",
        "                                                       train_loader,\n",
        "                                                       test_loader,\n",
        "                                                       loss_func,\n",
        "                                                       opt,\n",
        "                                                       num_epochs)"
      ]
    },
    {
      "cell_type": "code",
      "source": [
        "\n",
        "plot_results(loss_history, loss_val_history, train_acc_history, val_acc_history)\n"
      ],
      "metadata": {
        "colab": {
          "base_uri": "https://localhost:8080/",
          "height": 762
        },
        "id": "VBuqaiqnd8A3",
        "outputId": "7181bbda-346a-4bbd-c684-00e3c7605db9"
      },
      "execution_count": null,
      "outputs": [
        {
          "output_type": "display_data",
          "data": {
            "text/plain": [
              "<Figure size 2000x800 with 2 Axes>"
            ],
            "image/png": "[encoded data removed]"
          },
          "metadata": {}
        }
      ]
    },
    {
      "cell_type": "markdown",
      "source": [
        "Тут получились несколько аномальные результаты, что на train loss выше чем на валидации, однако по графикам можно сказать что мы избавились от переобучения, так же выросла метрика. Однако попробуем добавить эпох и уменьшить параметр p для dropout, посмотрим что произойдет."
      ],
      "metadata": {
        "id": "nPKTCFvVi2A0"
      }
    },
    {
      "cell_type": "code",
      "source": [
        "test_accuracy(fixed_model)\n"
      ],
      "metadata": {
        "id": "XgrR1wazd-NJ"
      },
      "execution_count": null,
      "outputs": []
    },
    {
      "cell_type": "code",
      "source": [
        "class FixedNeuralNetwork_2(nn.Module):\n",
        "    def __init__(self, input_shape=28*28, num_classes=10, input_channels=1):\n",
        "        super(self.__class__, self).__init__()\n",
        "        self.model = nn.Sequential(\n",
        "            nn.Flatten(), # This layer converts image into a vector to use Linear layers afterwards\n",
        "            # Your network structure comes here\n",
        "            nn.Linear(input_shape, 600),\n",
        "            nn.BatchNorm1d(600),\n",
        "            nn.Dropout(p=0.5),\n",
        "            nn.ReLU(),\n",
        "            nn.Linear(600, 400),\n",
        "            nn.BatchNorm1d(400),\n",
        "            nn.ReLU(),\n",
        "            nn.Dropout(p=0.3),\n",
        "            nn.Linear(400, 128),\n",
        "            nn.BatchNorm1d(128),\n",
        "            nn.ReLU(),\n",
        "            nn.Dropout(p=0.3),\n",
        "            nn.Linear(128, 32),\n",
        "            nn.BatchNorm1d(32),\n",
        "            nn.ReLU(),\n",
        "            nn.Dropout(p=0.2),\n",
        "            nn.Linear(32, num_classes)\n",
        "        )\n",
        "\n",
        "    def forward(self, inp):\n",
        "        out = self.model(inp)\n",
        "        return out\n"
      ],
      "metadata": {
        "id": "QP0BUHzCgBMn"
      },
      "execution_count": null,
      "outputs": []
    },
    {
      "cell_type": "code",
      "source": [
        "fixed_model = FixedNeuralNetwork_2().to(device)\n",
        "opt = optim.Adam(fixed_model.parameters(), lr=1e-2, betas=(0.9, 0.99), eps=1e-8)# YOUR CODE HERE\n",
        "loss_func = nn.CrossEntropyLoss().type(torch.FloatTensor) # YOUR CODE HERE\n",
        "#loss_func = nn.NLLLoss()\n",
        "# Your experiments, come here\n",
        "\n",
        "num_epochs = 20\n",
        "loss_history, loss_val_history, train_acc_history, val_acc_history = train_model(fixed_model,\n",
        "                                                       train_loader,\n",
        "                                                       test_loader,\n",
        "                                                       loss_func,\n",
        "                                                       opt,\n",
        "                                                       num_epochs)\n",
        "\n",
        "plot_results(loss_history, loss_val_history, train_acc_history, val_acc_history)\n"
      ],
      "metadata": {
        "colab": {
          "base_uri": "https://localhost:8080/",
          "height": 1000,
          "referenced_widgets": [
            "920c6da320d84c97a321824cbb43e2ce",
            "c9c46ce59af44cda898f0f0d8ec67b2b",
            "d4034bc658444204aa85af3c456d06d0",
            "f9d112874515472980167ae9ff560dda",
            "5a2bd1e689464422b7bbb6416c7abdf8",
            "87ec2be9884744f28cb915f7322bee5c",
            "15ece7f0b68740a3868dd9c9f43ad624",
            "fa9f88210d12429ab64030b11bf0dc88",
            "25caa09a10804f54be63f454d377410d",
            "3518c01b017b4e58a4815bb59cc87df5",
            "37e7e6f0536b40f2a6c4f6a82dc8ecd2"
          ]
        },
        "id": "RMEaAsyigHxB",
        "outputId": "b3bb8a7f-0dd1-40db-bf24-78245bc692e8"
      },
      "execution_count": null,
      "outputs": [
        {
          "output_type": "display_data",
          "data": {
            "text/plain": [
              "  0%|          | 0/20 [00:00<?, ?it/s]"
            ],
            "application/vnd.jupyter.widget-view+json": {
              "version_major": 2,
              "version_minor": 0,
              "model_id": "920c6da320d84c97a321824cbb43e2ce"
            }
          },
          "metadata": {}
        },
        {
          "output_type": "stream",
          "name": "stdout",
          "text": [
            "Epoch 1/20\n",
            "Average loss: 0.6355082988739014, Train accuracy: 0.7780961265103056, Val accuracy: 0.84697265625\n",
            "---------------------------------------------------------------------------\n",
            "Epoch 2/20\n",
            "Average loss: 0.4834650754928589, Train accuracy: 0.8327114427860697, Val accuracy: 0.84580078125\n",
            "---------------------------------------------------------------------------\n",
            "Epoch 3/20\n",
            "Average loss: 0.43913188576698303, Train accuracy: 0.8478422619047619, Val accuracy: 0.858984375\n",
            "---------------------------------------------------------------------------\n",
            "Epoch 4/20\n",
            "Average loss: 0.41026318073272705, Train accuracy: 0.8571761727078892, Val accuracy: 0.87451171875\n",
            "---------------------------------------------------------------------------\n",
            "Epoch 5/20\n",
            "Average loss: 0.38758665323257446, Train accuracy: 0.8640502842928216, Val accuracy: 0.869140625\n",
            "---------------------------------------------------------------------------\n",
            "Epoch 6/20\n",
            "Average loss: 0.37548625469207764, Train accuracy: 0.869247512437811, Val accuracy: 0.87783203125\n",
            "---------------------------------------------------------------------------\n",
            "Epoch 7/20\n",
            "Average loss: 0.36015790700912476, Train accuracy: 0.8733286691542288, Val accuracy: 0.88017578125\n",
            "---------------------------------------------------------------------------\n",
            "Epoch 8/20\n",
            "Average loss: 0.34751471877098083, Train accuracy: 0.8772654584221748, Val accuracy: 0.8798828125\n",
            "---------------------------------------------------------------------------\n",
            "Epoch 9/20\n",
            "Average loss: 0.33749642968177795, Train accuracy: 0.8813355099502488, Val accuracy: 0.88173828125\n",
            "---------------------------------------------------------------------------\n",
            "Epoch 10/20\n",
            "Average loss: 0.3325474262237549, Train accuracy: 0.8831178926794598, Val accuracy: 0.88408203125\n",
            "---------------------------------------------------------------------------\n",
            "Epoch 11/20\n",
            "Average loss: 0.3216923773288727, Train accuracy: 0.8864605543710021, Val accuracy: 0.8853515625\n",
            "---------------------------------------------------------------------------\n",
            "Epoch 12/20\n",
            "Average loss: 0.3179498314857483, Train accuracy: 0.886915867093106, Val accuracy: 0.88583984375\n",
            "---------------------------------------------------------------------------\n",
            "Epoch 13/20\n",
            "Average loss: 0.30867937207221985, Train accuracy: 0.8902862917555081, Val accuracy: 0.88837890625\n",
            "---------------------------------------------------------------------------\n",
            "Epoch 14/20\n",
            "Average loss: 0.30702951550483704, Train accuracy: 0.8921630685856432, Val accuracy: 0.88857421875\n",
            "---------------------------------------------------------------------------\n",
            "Epoch 15/20\n",
            "Average loss: 0.2944360077381134, Train accuracy: 0.8940731609808102, Val accuracy: 0.8908203125\n",
            "---------------------------------------------------------------------------\n",
            "Epoch 16/20\n",
            "Average loss: 0.2902771830558777, Train accuracy: 0.8973325337597725, Val accuracy: 0.89169921875\n",
            "---------------------------------------------------------------------------\n",
            "Epoch 17/20\n",
            "Average loss: 0.2849734127521515, Train accuracy: 0.898365316275764, Val accuracy: 0.89189453125\n",
            "---------------------------------------------------------------------------\n",
            "Epoch 18/20\n",
            "Average loss: 0.2877620756626129, Train accuracy: 0.8988650497512437, Val accuracy: 0.88759765625\n",
            "---------------------------------------------------------------------------\n",
            "Epoch 19/20\n",
            "Average loss: 0.27692821621894836, Train accuracy: 0.9013415067519546, Val accuracy: 0.89560546875\n",
            "---------------------------------------------------------------------------\n",
            "Epoch 20/20\n",
            "Average loss: 0.27485978603363037, Train accuracy: 0.902241027007818, Val accuracy: 0.89384765625\n",
            "---------------------------------------------------------------------------\n"
          ]
        },
        {
          "output_type": "display_data",
          "data": {
            "text/plain": [
              "<Figure size 2000x800 with 2 Axes>"
            ],
            "image/png": "[encoded data removed]"
          },
          "metadata": {}
        },
        {
          "output_type": "stream",
          "name": "stdout",
          "text": [
            "\n",
            "Test accuracy 0.8728515625\n"
          ]
        }
      ]
    },
    {
      "cell_type": "code",
      "source": [
        "test_accuracy(fixed_model)\n"
      ],
      "metadata": {
        "colab": {
          "base_uri": "https://localhost:8080/"
        },
        "id": "D4LaOlttjyam",
        "outputId": "5d9b707f-d0d0-4a7f-f5a8-d3ddb38b6edc"
      },
      "execution_count": null,
      "outputs": [
        {
          "output_type": "stream",
          "name": "stdout",
          "text": [
            "\n",
            "Test accuracy 0.89384765625\n"
          ]
        }
      ]
    },
    {
      "cell_type": "markdown",
      "source": [
        "Заметно что после 10 эпохи train и val поменялись местами в loss, а на 10 эпохе это произошло и на метрике.Однако переобучения нет, и метрика на тесте так же больше изначальных моделей"
      ],
      "metadata": {
        "id": "F8WJVftWj0Jz"
      }
    },
    {
      "cell_type": "markdown",
      "metadata": {
        "id": "dMui_uLJ7G0d"
      },
      "source": [
        "### Conclusions:\n",
        "_Write down small report with your conclusions and your ideas._"
      ]
    },
    {
      "cell_type": "markdown",
      "source": [
        "В данной части лабы мы еще раз убедились в важности использования методов регуляризации batchnorm и dropout. Проблема переобучения одна из основных проблем в машинном обучении и в данной работе мы лучше с ней познакомились. Можно сделать выводы, что нужно искать баланс в глубине нейронок, точности и скорости обучения. Batchnorm и dropout отлично работают вместе и позволяют улучшать score без боязни переобучения."
      ],
      "metadata": {
        "id": "M0k3kTwEkgI4"
      }
    }
  ],
  "metadata": {
    "colab": {
      "provenance": []
    },
    "kernelspec": {
      "display_name": "Python 3",
      "name": "python3"
    },
    "language_info": {
      "codemirror_mode": {
        "name": "ipython",
        "version": 3
      },
      "file_extension": ".py",
      "mimetype": "text/x-python",
      "name": "python",
      "nbconvert_exporter": "python",
      "pygments_lexer": "ipython3",
      "version": "3.10.9"
    },
    "widgets": {
      "application/vnd.jupyter.widget-state+json": {
        "59e318dd5feb4930b21489bdbc367a10": {
          "model_module": "@jupyter-widgets/controls",
          "model_name": "HBoxModel",
          "model_module_version": "1.5.0",
          "state": {
            "_dom_classes": [],
            "_model_module": "@jupyter-widgets/controls",
            "_model_module_version": "1.5.0",
            "_model_name": "HBoxModel",
            "_view_count": null,
            "_view_module": "@jupyter-widgets/controls",
            "_view_module_version": "1.5.0",
            "_view_name": "HBoxView",
            "box_style": "",
            "children": [
              "IPY_MODEL_4105ebb992ba4ee1871c0dc0884bfa63",
              "IPY_MODEL_671afffeb2844c1a8d14dfadc618f89e",
              "IPY_MODEL_a1f57b5b21224a5b88b93ddd9310fd5b"
            ],
            "layout": "IPY_MODEL_03f960dafc4e4f6ea926e9ba4414eb27"
          }
        },
        "4105ebb992ba4ee1871c0dc0884bfa63": {
          "model_module": "@jupyter-widgets/controls",
          "model_name": "HTMLModel",
          "model_module_version": "1.5.0",
          "state": {
            "_dom_classes": [],
            "_model_module": "@jupyter-widgets/controls",
            "_model_module_version": "1.5.0",
            "_model_name": "HTMLModel",
            "_view_count": null,
            "_view_module": "@jupyter-widgets/controls",
            "_view_module_version": "1.5.0",
            "_view_name": "HTMLView",
            "description": "",
            "description_tooltip": null,
            "layout": "IPY_MODEL_7f48af7c48e94ac29b870e7ff559fa1f",
            "placeholder": "​",
            "style": "IPY_MODEL_eb31e5cfb52a4e24a170c1269b7d7f11",
            "value": "100%"
          }
        },
        "671afffeb2844c1a8d14dfadc618f89e": {
          "model_module": "@jupyter-widgets/controls",
          "model_name": "FloatProgressModel",
          "model_module_version": "1.5.0",
          "state": {
            "_dom_classes": [],
            "_model_module": "@jupyter-widgets/controls",
            "_model_module_version": "1.5.0",
            "_model_name": "FloatProgressModel",
            "_view_count": null,
            "_view_module": "@jupyter-widgets/controls",
            "_view_module_version": "1.5.0",
            "_view_name": "ProgressView",
            "bar_style": "success",
            "description": "",
            "description_tooltip": null,
            "layout": "IPY_MODEL_f16541f2935d436bb30125250482c770",
            "max": 20,
            "min": 0,
            "orientation": "horizontal",
            "style": "IPY_MODEL_3c7cb8c6976845e9a4f860ae7c66eb49",
            "value": 20
          }
        },
        "a1f57b5b21224a5b88b93ddd9310fd5b": {
          "model_module": "@jupyter-widgets/controls",
          "model_name": "HTMLModel",
          "model_module_version": "1.5.0",
          "state": {
            "_dom_classes": [],
            "_model_module": "@jupyter-widgets/controls",
            "_model_module_version": "1.5.0",
            "_model_name": "HTMLModel",
            "_view_count": null,
            "_view_module": "@jupyter-widgets/controls",
            "_view_module_version": "1.5.0",
            "_view_name": "HTMLView",
            "description": "",
            "description_tooltip": null,
            "layout": "IPY_MODEL_4dea77238e504f78a68369d8a84936cc",
            "placeholder": "​",
            "style": "IPY_MODEL_bd17ed1c19354fa88c2229893d4db729",
            "value": " 20/20 [04:19&lt;00:00, 13.10s/it]"
          }
        },
        "03f960dafc4e4f6ea926e9ba4414eb27": {
          "model_module": "@jupyter-widgets/base",
          "model_name": "LayoutModel",
          "model_module_version": "1.2.0",
          "state": {
            "_model_module": "@jupyter-widgets/base",
            "_model_module_version": "1.2.0",
            "_model_name": "LayoutModel",
            "_view_count": null,
            "_view_module": "@jupyter-widgets/base",
            "_view_module_version": "1.2.0",
            "_view_name": "LayoutView",
            "align_content": null,
            "align_items": null,
            "align_self": null,
            "border": null,
            "bottom": null,
            "display": null,
            "flex": null,
            "flex_flow": null,
            "grid_area": null,
            "grid_auto_columns": null,
            "grid_auto_flow": null,
            "grid_auto_rows": null,
            "grid_column": null,
            "grid_gap": null,
            "grid_row": null,
            "grid_template_areas": null,
            "grid_template_columns": null,
            "grid_template_rows": null,
            "height": null,
            "justify_content": null,
            "justify_items": null,
            "left": null,
            "margin": null,
            "max_height": null,
            "max_width": null,
            "min_height": null,
            "min_width": null,
            "object_fit": null,
            "object_position": null,
            "order": null,
            "overflow": null,
            "overflow_x": null,
            "overflow_y": null,
            "padding": null,
            "right": null,
            "top": null,
            "visibility": null,
            "width": null
          }
        },
        "7f48af7c48e94ac29b870e7ff559fa1f": {
          "model_module": "@jupyter-widgets/base",
          "model_name": "LayoutModel",
          "model_module_version": "1.2.0",
          "state": {
            "_model_module": "@jupyter-widgets/base",
            "_model_module_version": "1.2.0",
            "_model_name": "LayoutModel",
            "_view_count": null,
            "_view_module": "@jupyter-widgets/base",
            "_view_module_version": "1.2.0",
            "_view_name": "LayoutView",
            "align_content": null,
            "align_items": null,
            "align_self": null,
            "border": null,
            "bottom": null,
            "display": null,
            "flex": null,
            "flex_flow": null,
            "grid_area": null,
            "grid_auto_columns": null,
            "grid_auto_flow": null,
            "grid_auto_rows": null,
            "grid_column": null,
            "grid_gap": null,
            "grid_row": null,
            "grid_template_areas": null,
            "grid_template_columns": null,
            "grid_template_rows": null,
            "height": null,
            "justify_content": null,
            "justify_items": null,
            "left": null,
            "margin": null,
            "max_height": null,
            "max_width": null,
            "min_height": null,
            "min_width": null,
            "object_fit": null,
            "object_position": null,
            "order": null,
            "overflow": null,
            "overflow_x": null,
            "overflow_y": null,
            "padding": null,
            "right": null,
            "top": null,
            "visibility": null,
            "width": null
          }
        },
        "eb31e5cfb52a4e24a170c1269b7d7f11": {
          "model_module": "@jupyter-widgets/controls",
          "model_name": "DescriptionStyleModel",
          "model_module_version": "1.5.0",
          "state": {
            "_model_module": "@jupyter-widgets/controls",
            "_model_module_version": "1.5.0",
            "_model_name": "DescriptionStyleModel",
            "_view_count": null,
            "_view_module": "@jupyter-widgets/base",
            "_view_module_version": "1.2.0",
            "_view_name": "StyleView",
            "description_width": ""
          }
        },
        "f16541f2935d436bb30125250482c770": {
          "model_module": "@jupyter-widgets/base",
          "model_name": "LayoutModel",
          "model_module_version": "1.2.0",
          "state": {
            "_model_module": "@jupyter-widgets/base",
            "_model_module_version": "1.2.0",
            "_model_name": "LayoutModel",
            "_view_count": null,
            "_view_module": "@jupyter-widgets/base",
            "_view_module_version": "1.2.0",
            "_view_name": "LayoutView",
            "align_content": null,
            "align_items": null,
            "align_self": null,
            "border": null,
            "bottom": null,
            "display": null,
            "flex": null,
            "flex_flow": null,
            "grid_area": null,
            "grid_auto_columns": null,
            "grid_auto_flow": null,
            "grid_auto_rows": null,
            "grid_column": null,
            "grid_gap": null,
            "grid_row": null,
            "grid_template_areas": null,
            "grid_template_columns": null,
            "grid_template_rows": null,
            "height": null,
            "justify_content": null,
            "justify_items": null,
            "left": null,
            "margin": null,
            "max_height": null,
            "max_width": null,
            "min_height": null,
            "min_width": null,
            "object_fit": null,
            "object_position": null,
            "order": null,
            "overflow": null,
            "overflow_x": null,
            "overflow_y": null,
            "padding": null,
            "right": null,
            "top": null,
            "visibility": null,
            "width": null
          }
        },
        "3c7cb8c6976845e9a4f860ae7c66eb49": {
          "model_module": "@jupyter-widgets/controls",
          "model_name": "ProgressStyleModel",
          "model_module_version": "1.5.0",
          "state": {
            "_model_module": "@jupyter-widgets/controls",
            "_model_module_version": "1.5.0",
            "_model_name": "ProgressStyleModel",
            "_view_count": null,
            "_view_module": "@jupyter-widgets/base",
            "_view_module_version": "1.2.0",
            "_view_name": "StyleView",
            "bar_color": null,
            "description_width": ""
          }
        },
        "4dea77238e504f78a68369d8a84936cc": {
          "model_module": "@jupyter-widgets/base",
          "model_name": "LayoutModel",
          "model_module_version": "1.2.0",
          "state": {
            "_model_module": "@jupyter-widgets/base",
            "_model_module_version": "1.2.0",
            "_model_name": "LayoutModel",
            "_view_count": null,
            "_view_module": "@jupyter-widgets/base",
            "_view_module_version": "1.2.0",
            "_view_name": "LayoutView",
            "align_content": null,
            "align_items": null,
            "align_self": null,
            "border": null,
            "bottom": null,
            "display": null,
            "flex": null,
            "flex_flow": null,
            "grid_area": null,
            "grid_auto_columns": null,
            "grid_auto_flow": null,
            "grid_auto_rows": null,
            "grid_column": null,
            "grid_gap": null,
            "grid_row": null,
            "grid_template_areas": null,
            "grid_template_columns": null,
            "grid_template_rows": null,
            "height": null,
            "justify_content": null,
            "justify_items": null,
            "left": null,
            "margin": null,
            "max_height": null,
            "max_width": null,
            "min_height": null,
            "min_width": null,
            "object_fit": null,
            "object_position": null,
            "order": null,
            "overflow": null,
            "overflow_x": null,
            "overflow_y": null,
            "padding": null,
            "right": null,
            "top": null,
            "visibility": null,
            "width": null
          }
        },
        "bd17ed1c19354fa88c2229893d4db729": {
          "model_module": "@jupyter-widgets/controls",
          "model_name": "DescriptionStyleModel",
          "model_module_version": "1.5.0",
          "state": {
            "_model_module": "@jupyter-widgets/controls",
            "_model_module_version": "1.5.0",
            "_model_name": "DescriptionStyleModel",
            "_view_count": null,
            "_view_module": "@jupyter-widgets/base",
            "_view_module_version": "1.2.0",
            "_view_name": "StyleView",
            "description_width": ""
          }
        },
        "d470868593b74398990499bacc1701bb": {
          "model_module": "@jupyter-widgets/controls",
          "model_name": "HBoxModel",
          "model_module_version": "1.5.0",
          "state": {
            "_dom_classes": [],
            "_model_module": "@jupyter-widgets/controls",
            "_model_module_version": "1.5.0",
            "_model_name": "HBoxModel",
            "_view_count": null,
            "_view_module": "@jupyter-widgets/controls",
            "_view_module_version": "1.5.0",
            "_view_name": "HBoxView",
            "box_style": "",
            "children": [
              "IPY_MODEL_378d4e9e761a4a68ab839732eb57e4e1",
              "IPY_MODEL_7191397cbb6c497b8f4b6ff278ab1a71",
              "IPY_MODEL_82d7386370c3494c8055fbfe1ad8b32c"
            ],
            "layout": "IPY_MODEL_5f32d2cdf9fc4b2dadc4af66c2a5eaf4"
          }
        },
        "378d4e9e761a4a68ab839732eb57e4e1": {
          "model_module": "@jupyter-widgets/controls",
          "model_name": "HTMLModel",
          "model_module_version": "1.5.0",
          "state": {
            "_dom_classes": [],
            "_model_module": "@jupyter-widgets/controls",
            "_model_module_version": "1.5.0",
            "_model_name": "HTMLModel",
            "_view_count": null,
            "_view_module": "@jupyter-widgets/controls",
            "_view_module_version": "1.5.0",
            "_view_name": "HTMLView",
            "description": "",
            "description_tooltip": null,
            "layout": "IPY_MODEL_2fc8ae8557d54ca383da27354b1755af",
            "placeholder": "​",
            "style": "IPY_MODEL_6f5571d5ce0143baa7187fdb5b09a6e5",
            "value": "100%"
          }
        },
        "7191397cbb6c497b8f4b6ff278ab1a71": {
          "model_module": "@jupyter-widgets/controls",
          "model_name": "FloatProgressModel",
          "model_module_version": "1.5.0",
          "state": {
            "_dom_classes": [],
            "_model_module": "@jupyter-widgets/controls",
            "_model_module_version": "1.5.0",
            "_model_name": "FloatProgressModel",
            "_view_count": null,
            "_view_module": "@jupyter-widgets/controls",
            "_view_module_version": "1.5.0",
            "_view_name": "ProgressView",
            "bar_style": "success",
            "description": "",
            "description_tooltip": null,
            "layout": "IPY_MODEL_76d2b5772d714ec5a3f6a6ab4c8f9d1f",
            "max": 35,
            "min": 0,
            "orientation": "horizontal",
            "style": "IPY_MODEL_5737b8b8835a433780c12465cb178084",
            "value": 35
          }
        },
        "82d7386370c3494c8055fbfe1ad8b32c": {
          "model_module": "@jupyter-widgets/controls",
          "model_name": "HTMLModel",
          "model_module_version": "1.5.0",
          "state": {
            "_dom_classes": [],
            "_model_module": "@jupyter-widgets/controls",
            "_model_module_version": "1.5.0",
            "_model_name": "HTMLModel",
            "_view_count": null,
            "_view_module": "@jupyter-widgets/controls",
            "_view_module_version": "1.5.0",
            "_view_name": "HTMLView",
            "description": "",
            "description_tooltip": null,
            "layout": "IPY_MODEL_77d6701152de488ea1e3e3bdf9d68e58",
            "placeholder": "​",
            "style": "IPY_MODEL_d30f09eac1b44f589b1994a42803663d",
            "value": " 35/35 [18:57&lt;00:00, 38.32s/it]"
          }
        },
        "5f32d2cdf9fc4b2dadc4af66c2a5eaf4": {
          "model_module": "@jupyter-widgets/base",
          "model_name": "LayoutModel",
          "model_module_version": "1.2.0",
          "state": {
            "_model_module": "@jupyter-widgets/base",
            "_model_module_version": "1.2.0",
            "_model_name": "LayoutModel",
            "_view_count": null,
            "_view_module": "@jupyter-widgets/base",
            "_view_module_version": "1.2.0",
            "_view_name": "LayoutView",
            "align_content": null,
            "align_items": null,
            "align_self": null,
            "border": null,
            "bottom": null,
            "display": null,
            "flex": null,
            "flex_flow": null,
            "grid_area": null,
            "grid_auto_columns": null,
            "grid_auto_flow": null,
            "grid_auto_rows": null,
            "grid_column": null,
            "grid_gap": null,
            "grid_row": null,
            "grid_template_areas": null,
            "grid_template_columns": null,
            "grid_template_rows": null,
            "height": null,
            "justify_content": null,
            "justify_items": null,
            "left": null,
            "margin": null,
            "max_height": null,
            "max_width": null,
            "min_height": null,
            "min_width": null,
            "object_fit": null,
            "object_position": null,
            "order": null,
            "overflow": null,
            "overflow_x": null,
            "overflow_y": null,
            "padding": null,
            "right": null,
            "top": null,
            "visibility": null,
            "width": null
          }
        },
        "2fc8ae8557d54ca383da27354b1755af": {
          "model_module": "@jupyter-widgets/base",
          "model_name": "LayoutModel",
          "model_module_version": "1.2.0",
          "state": {
            "_model_module": "@jupyter-widgets/base",
            "_model_module_version": "1.2.0",
            "_model_name": "LayoutModel",
            "_view_count": null,
            "_view_module": "@jupyter-widgets/base",
            "_view_module_version": "1.2.0",
            "_view_name": "LayoutView",
            "align_content": null,
            "align_items": null,
            "align_self": null,
            "border": null,
            "bottom": null,
            "display": null,
            "flex": null,
            "flex_flow": null,
            "grid_area": null,
            "grid_auto_columns": null,
            "grid_auto_flow": null,
            "grid_auto_rows": null,
            "grid_column": null,
            "grid_gap": null,
            "grid_row": null,
            "grid_template_areas": null,
            "grid_template_columns": null,
            "grid_template_rows": null,
            "height": null,
            "justify_content": null,
            "justify_items": null,
            "left": null,
            "margin": null,
            "max_height": null,
            "max_width": null,
            "min_height": null,
            "min_width": null,
            "object_fit": null,
            "object_position": null,
            "order": null,
            "overflow": null,
            "overflow_x": null,
            "overflow_y": null,
            "padding": null,
            "right": null,
            "top": null,
            "visibility": null,
            "width": null
          }
        },
        "6f5571d5ce0143baa7187fdb5b09a6e5": {
          "model_module": "@jupyter-widgets/controls",
          "model_name": "DescriptionStyleModel",
          "model_module_version": "1.5.0",
          "state": {
            "_model_module": "@jupyter-widgets/controls",
            "_model_module_version": "1.5.0",
            "_model_name": "DescriptionStyleModel",
            "_view_count": null,
            "_view_module": "@jupyter-widgets/base",
            "_view_module_version": "1.2.0",
            "_view_name": "StyleView",
            "description_width": ""
          }
        },
        "76d2b5772d714ec5a3f6a6ab4c8f9d1f": {
          "model_module": "@jupyter-widgets/base",
          "model_name": "LayoutModel",
          "model_module_version": "1.2.0",
          "state": {
            "_model_module": "@jupyter-widgets/base",
            "_model_module_version": "1.2.0",
            "_model_name": "LayoutModel",
            "_view_count": null,
            "_view_module": "@jupyter-widgets/base",
            "_view_module_version": "1.2.0",
            "_view_name": "LayoutView",
            "align_content": null,
            "align_items": null,
            "align_self": null,
            "border": null,
            "bottom": null,
            "display": null,
            "flex": null,
            "flex_flow": null,
            "grid_area": null,
            "grid_auto_columns": null,
            "grid_auto_flow": null,
            "grid_auto_rows": null,
            "grid_column": null,
            "grid_gap": null,
            "grid_row": null,
            "grid_template_areas": null,
            "grid_template_columns": null,
            "grid_template_rows": null,
            "height": null,
            "justify_content": null,
            "justify_items": null,
            "left": null,
            "margin": null,
            "max_height": null,
            "max_width": null,
            "min_height": null,
            "min_width": null,
            "object_fit": null,
            "object_position": null,
            "order": null,
            "overflow": null,
            "overflow_x": null,
            "overflow_y": null,
            "padding": null,
            "right": null,
            "top": null,
            "visibility": null,
            "width": null
          }
        },
        "5737b8b8835a433780c12465cb178084": {
          "model_module": "@jupyter-widgets/controls",
          "model_name": "ProgressStyleModel",
          "model_module_version": "1.5.0",
          "state": {
            "_model_module": "@jupyter-widgets/controls",
            "_model_module_version": "1.5.0",
            "_model_name": "ProgressStyleModel",
            "_view_count": null,
            "_view_module": "@jupyter-widgets/base",
            "_view_module_version": "1.2.0",
            "_view_name": "StyleView",
            "bar_color": null,
            "description_width": ""
          }
        },
        "77d6701152de488ea1e3e3bdf9d68e58": {
          "model_module": "@jupyter-widgets/base",
          "model_name": "LayoutModel",
          "model_module_version": "1.2.0",
          "state": {
            "_model_module": "@jupyter-widgets/base",
            "_model_module_version": "1.2.0",
            "_model_name": "LayoutModel",
            "_view_count": null,
            "_view_module": "@jupyter-widgets/base",
            "_view_module_version": "1.2.0",
            "_view_name": "LayoutView",
            "align_content": null,
            "align_items": null,
            "align_self": null,
            "border": null,
            "bottom": null,
            "display": null,
            "flex": null,
            "flex_flow": null,
            "grid_area": null,
            "grid_auto_columns": null,
            "grid_auto_flow": null,
            "grid_auto_rows": null,
            "grid_column": null,
            "grid_gap": null,
            "grid_row": null,
            "grid_template_areas": null,
            "grid_template_columns": null,
            "grid_template_rows": null,
            "height": null,
            "justify_content": null,
            "justify_items": null,
            "left": null,
            "margin": null,
            "max_height": null,
            "max_width": null,
            "min_height": null,
            "min_width": null,
            "object_fit": null,
            "object_position": null,
            "order": null,
            "overflow": null,
            "overflow_x": null,
            "overflow_y": null,
            "padding": null,
            "right": null,
            "top": null,
            "visibility": null,
            "width": null
          }
        },
        "d30f09eac1b44f589b1994a42803663d": {
          "model_module": "@jupyter-widgets/controls",
          "model_name": "DescriptionStyleModel",
          "model_module_version": "1.5.0",
          "state": {
            "_model_module": "@jupyter-widgets/controls",
            "_model_module_version": "1.5.0",
            "_model_name": "DescriptionStyleModel",
            "_view_count": null,
            "_view_module": "@jupyter-widgets/base",
            "_view_module_version": "1.2.0",
            "_view_name": "StyleView",
            "description_width": ""
          }
        },
        "35970245ecf84bc3a75b0d0b8358c298": {
          "model_module": "@jupyter-widgets/controls",
          "model_name": "HBoxModel",
          "model_module_version": "1.5.0",
          "state": {
            "_dom_classes": [],
            "_model_module": "@jupyter-widgets/controls",
            "_model_module_version": "1.5.0",
            "_model_name": "HBoxModel",
            "_view_count": null,
            "_view_module": "@jupyter-widgets/controls",
            "_view_module_version": "1.5.0",
            "_view_name": "HBoxView",
            "box_style": "",
            "children": [
              "IPY_MODEL_53f52425409146f4a17162b79602f0de",
              "IPY_MODEL_c72108b46cd64a2eb2569a78d22dc782",
              "IPY_MODEL_14529550090f4277b20379f1266b7358"
            ],
            "layout": "IPY_MODEL_42e901b2bcd64c4391baf544c7f7b81b"
          }
        },
        "53f52425409146f4a17162b79602f0de": {
          "model_module": "@jupyter-widgets/controls",
          "model_name": "HTMLModel",
          "model_module_version": "1.5.0",
          "state": {
            "_dom_classes": [],
            "_model_module": "@jupyter-widgets/controls",
            "_model_module_version": "1.5.0",
            "_model_name": "HTMLModel",
            "_view_count": null,
            "_view_module": "@jupyter-widgets/controls",
            "_view_module_version": "1.5.0",
            "_view_name": "HTMLView",
            "description": "",
            "description_tooltip": null,
            "layout": "IPY_MODEL_c898c2a13f774a9da264d815aa364777",
            "placeholder": "​",
            "style": "IPY_MODEL_09c0200dbb554f86971de6bf239433b7",
            "value": "100%"
          }
        },
        "c72108b46cd64a2eb2569a78d22dc782": {
          "model_module": "@jupyter-widgets/controls",
          "model_name": "FloatProgressModel",
          "model_module_version": "1.5.0",
          "state": {
            "_dom_classes": [],
            "_model_module": "@jupyter-widgets/controls",
            "_model_module_version": "1.5.0",
            "_model_name": "FloatProgressModel",
            "_view_count": null,
            "_view_module": "@jupyter-widgets/controls",
            "_view_module_version": "1.5.0",
            "_view_name": "ProgressView",
            "bar_style": "success",
            "description": "",
            "description_tooltip": null,
            "layout": "IPY_MODEL_a0a8c981859a4931acb8dcda36c57593",
            "max": 20,
            "min": 0,
            "orientation": "horizontal",
            "style": "IPY_MODEL_17409ee5a9f143cf89300350c87ae21d",
            "value": 20
          }
        },
        "14529550090f4277b20379f1266b7358": {
          "model_module": "@jupyter-widgets/controls",
          "model_name": "HTMLModel",
          "model_module_version": "1.5.0",
          "state": {
            "_dom_classes": [],
            "_model_module": "@jupyter-widgets/controls",
            "_model_module_version": "1.5.0",
            "_model_name": "HTMLModel",
            "_view_count": null,
            "_view_module": "@jupyter-widgets/controls",
            "_view_module_version": "1.5.0",
            "_view_name": "HTMLView",
            "description": "",
            "description_tooltip": null,
            "layout": "IPY_MODEL_11f6819cb1fb4fb2b6383e26c6e028b2",
            "placeholder": "​",
            "style": "IPY_MODEL_6b91205ac0be400f89125ce294eff30c",
            "value": " 20/20 [05:57&lt;00:00, 17.84s/it]"
          }
        },
        "42e901b2bcd64c4391baf544c7f7b81b": {
          "model_module": "@jupyter-widgets/base",
          "model_name": "LayoutModel",
          "model_module_version": "1.2.0",
          "state": {
            "_model_module": "@jupyter-widgets/base",
            "_model_module_version": "1.2.0",
            "_model_name": "LayoutModel",
            "_view_count": null,
            "_view_module": "@jupyter-widgets/base",
            "_view_module_version": "1.2.0",
            "_view_name": "LayoutView",
            "align_content": null,
            "align_items": null,
            "align_self": null,
            "border": null,
            "bottom": null,
            "display": null,
            "flex": null,
            "flex_flow": null,
            "grid_area": null,
            "grid_auto_columns": null,
            "grid_auto_flow": null,
            "grid_auto_rows": null,
            "grid_column": null,
            "grid_gap": null,
            "grid_row": null,
            "grid_template_areas": null,
            "grid_template_columns": null,
            "grid_template_rows": null,
            "height": null,
            "justify_content": null,
            "justify_items": null,
            "left": null,
            "margin": null,
            "max_height": null,
            "max_width": null,
            "min_height": null,
            "min_width": null,
            "object_fit": null,
            "object_position": null,
            "order": null,
            "overflow": null,
            "overflow_x": null,
            "overflow_y": null,
            "padding": null,
            "right": null,
            "top": null,
            "visibility": null,
            "width": null
          }
        },
        "c898c2a13f774a9da264d815aa364777": {
          "model_module": "@jupyter-widgets/base",
          "model_name": "LayoutModel",
          "model_module_version": "1.2.0",
          "state": {
            "_model_module": "@jupyter-widgets/base",
            "_model_module_version": "1.2.0",
            "_model_name": "LayoutModel",
            "_view_count": null,
            "_view_module": "@jupyter-widgets/base",
            "_view_module_version": "1.2.0",
            "_view_name": "LayoutView",
            "align_content": null,
            "align_items": null,
            "align_self": null,
            "border": null,
            "bottom": null,
            "display": null,
            "flex": null,
            "flex_flow": null,
            "grid_area": null,
            "grid_auto_columns": null,
            "grid_auto_flow": null,
            "grid_auto_rows": null,
            "grid_column": null,
            "grid_gap": null,
            "grid_row": null,
            "grid_template_areas": null,
            "grid_template_columns": null,
            "grid_template_rows": null,
            "height": null,
            "justify_content": null,
            "justify_items": null,
            "left": null,
            "margin": null,
            "max_height": null,
            "max_width": null,
            "min_height": null,
            "min_width": null,
            "object_fit": null,
            "object_position": null,
            "order": null,
            "overflow": null,
            "overflow_x": null,
            "overflow_y": null,
            "padding": null,
            "right": null,
            "top": null,
            "visibility": null,
            "width": null
          }
        },
        "09c0200dbb554f86971de6bf239433b7": {
          "model_module": "@jupyter-widgets/controls",
          "model_name": "DescriptionStyleModel",
          "model_module_version": "1.5.0",
          "state": {
            "_model_module": "@jupyter-widgets/controls",
            "_model_module_version": "1.5.0",
            "_model_name": "DescriptionStyleModel",
            "_view_count": null,
            "_view_module": "@jupyter-widgets/base",
            "_view_module_version": "1.2.0",
            "_view_name": "StyleView",
            "description_width": ""
          }
        },
        "a0a8c981859a4931acb8dcda36c57593": {
          "model_module": "@jupyter-widgets/base",
          "model_name": "LayoutModel",
          "model_module_version": "1.2.0",
          "state": {
            "_model_module": "@jupyter-widgets/base",
            "_model_module_version": "1.2.0",
            "_model_name": "LayoutModel",
            "_view_count": null,
            "_view_module": "@jupyter-widgets/base",
            "_view_module_version": "1.2.0",
            "_view_name": "LayoutView",
            "align_content": null,
            "align_items": null,
            "align_self": null,
            "border": null,
            "bottom": null,
            "display": null,
            "flex": null,
            "flex_flow": null,
            "grid_area": null,
            "grid_auto_columns": null,
            "grid_auto_flow": null,
            "grid_auto_rows": null,
            "grid_column": null,
            "grid_gap": null,
            "grid_row": null,
            "grid_template_areas": null,
            "grid_template_columns": null,
            "grid_template_rows": null,
            "height": null,
            "justify_content": null,
            "justify_items": null,
            "left": null,
            "margin": null,
            "max_height": null,
            "max_width": null,
            "min_height": null,
            "min_width": null,
            "object_fit": null,
            "object_position": null,
            "order": null,
            "overflow": null,
            "overflow_x": null,
            "overflow_y": null,
            "padding": null,
            "right": null,
            "top": null,
            "visibility": null,
            "width": null
          }
        },
        "17409ee5a9f143cf89300350c87ae21d": {
          "model_module": "@jupyter-widgets/controls",
          "model_name": "ProgressStyleModel",
          "model_module_version": "1.5.0",
          "state": {
            "_model_module": "@jupyter-widgets/controls",
            "_model_module_version": "1.5.0",
            "_model_name": "ProgressStyleModel",
            "_view_count": null,
            "_view_module": "@jupyter-widgets/base",
            "_view_module_version": "1.2.0",
            "_view_name": "StyleView",
            "bar_color": null,
            "description_width": ""
          }
        },
        "11f6819cb1fb4fb2b6383e26c6e028b2": {
          "model_module": "@jupyter-widgets/base",
          "model_name": "LayoutModel",
          "model_module_version": "1.2.0",
          "state": {
            "_model_module": "@jupyter-widgets/base",
            "_model_module_version": "1.2.0",
            "_model_name": "LayoutModel",
            "_view_count": null,
            "_view_module": "@jupyter-widgets/base",
            "_view_module_version": "1.2.0",
            "_view_name": "LayoutView",
            "align_content": null,
            "align_items": null,
            "align_self": null,
            "border": null,
            "bottom": null,
            "display": null,
            "flex": null,
            "flex_flow": null,
            "grid_area": null,
            "grid_auto_columns": null,
            "grid_auto_flow": null,
            "grid_auto_rows": null,
            "grid_column": null,
            "grid_gap": null,
            "grid_row": null,
            "grid_template_areas": null,
            "grid_template_columns": null,
            "grid_template_rows": null,
            "height": null,
            "justify_content": null,
            "justify_items": null,
            "left": null,
            "margin": null,
            "max_height": null,
            "max_width": null,
            "min_height": null,
            "min_width": null,
            "object_fit": null,
            "object_position": null,
            "order": null,
            "overflow": null,
            "overflow_x": null,
            "overflow_y": null,
            "padding": null,
            "right": null,
            "top": null,
            "visibility": null,
            "width": null
          }
        },
        "6b91205ac0be400f89125ce294eff30c": {
          "model_module": "@jupyter-widgets/controls",
          "model_name": "DescriptionStyleModel",
          "model_module_version": "1.5.0",
          "state": {
            "_model_module": "@jupyter-widgets/controls",
            "_model_module_version": "1.5.0",
            "_model_name": "DescriptionStyleModel",
            "_view_count": null,
            "_view_module": "@jupyter-widgets/base",
            "_view_module_version": "1.2.0",
            "_view_name": "StyleView",
            "description_width": ""
          }
        },
        "920c6da320d84c97a321824cbb43e2ce": {
          "model_module": "@jupyter-widgets/controls",
          "model_name": "HBoxModel",
          "model_module_version": "1.5.0",
          "state": {
            "_dom_classes": [],
            "_model_module": "@jupyter-widgets/controls",
            "_model_module_version": "1.5.0",
            "_model_name": "HBoxModel",
            "_view_count": null,
            "_view_module": "@jupyter-widgets/controls",
            "_view_module_version": "1.5.0",
            "_view_name": "HBoxView",
            "box_style": "",
            "children": [
              "IPY_MODEL_c9c46ce59af44cda898f0f0d8ec67b2b",
              "IPY_MODEL_d4034bc658444204aa85af3c456d06d0",
              "IPY_MODEL_f9d112874515472980167ae9ff560dda"
            ],
            "layout": "IPY_MODEL_5a2bd1e689464422b7bbb6416c7abdf8"
          }
        },
        "c9c46ce59af44cda898f0f0d8ec67b2b": {
          "model_module": "@jupyter-widgets/controls",
          "model_name": "HTMLModel",
          "model_module_version": "1.5.0",
          "state": {
            "_dom_classes": [],
            "_model_module": "@jupyter-widgets/controls",
            "_model_module_version": "1.5.0",
            "_model_name": "HTMLModel",
            "_view_count": null,
            "_view_module": "@jupyter-widgets/controls",
            "_view_module_version": "1.5.0",
            "_view_name": "HTMLView",
            "description": "",
            "description_tooltip": null,
            "layout": "IPY_MODEL_87ec2be9884744f28cb915f7322bee5c",
            "placeholder": "​",
            "style": "IPY_MODEL_15ece7f0b68740a3868dd9c9f43ad624",
            "value": "100%"
          }
        },
        "d4034bc658444204aa85af3c456d06d0": {
          "model_module": "@jupyter-widgets/controls",
          "model_name": "FloatProgressModel",
          "model_module_version": "1.5.0",
          "state": {
            "_dom_classes": [],
            "_model_module": "@jupyter-widgets/controls",
            "_model_module_version": "1.5.0",
            "_model_name": "FloatProgressModel",
            "_view_count": null,
            "_view_module": "@jupyter-widgets/controls",
            "_view_module_version": "1.5.0",
            "_view_name": "ProgressView",
            "bar_style": "success",
            "description": "",
            "description_tooltip": null,
            "layout": "IPY_MODEL_fa9f88210d12429ab64030b11bf0dc88",
            "max": 20,
            "min": 0,
            "orientation": "horizontal",
            "style": "IPY_MODEL_25caa09a10804f54be63f454d377410d",
            "value": 20
          }
        },
        "f9d112874515472980167ae9ff560dda": {
          "model_module": "@jupyter-widgets/controls",
          "model_name": "HTMLModel",
          "model_module_version": "1.5.0",
          "state": {
            "_dom_classes": [],
            "_model_module": "@jupyter-widgets/controls",
            "_model_module_version": "1.5.0",
            "_model_name": "HTMLModel",
            "_view_count": null,
            "_view_module": "@jupyter-widgets/controls",
            "_view_module_version": "1.5.0",
            "_view_name": "HTMLView",
            "description": "",
            "description_tooltip": null,
            "layout": "IPY_MODEL_3518c01b017b4e58a4815bb59cc87df5",
            "placeholder": "​",
            "style": "IPY_MODEL_37e7e6f0536b40f2a6c4f6a82dc8ecd2",
            "value": " 20/20 [05:59&lt;00:00, 18.39s/it]"
          }
        },
        "5a2bd1e689464422b7bbb6416c7abdf8": {
          "model_module": "@jupyter-widgets/base",
          "model_name": "LayoutModel",
          "model_module_version": "1.2.0",
          "state": {
            "_model_module": "@jupyter-widgets/base",
            "_model_module_version": "1.2.0",
            "_model_name": "LayoutModel",
            "_view_count": null,
            "_view_module": "@jupyter-widgets/base",
            "_view_module_version": "1.2.0",
            "_view_name": "LayoutView",
            "align_content": null,
            "align_items": null,
            "align_self": null,
            "border": null,
            "bottom": null,
            "display": null,
            "flex": null,
            "flex_flow": null,
            "grid_area": null,
            "grid_auto_columns": null,
            "grid_auto_flow": null,
            "grid_auto_rows": null,
            "grid_column": null,
            "grid_gap": null,
            "grid_row": null,
            "grid_template_areas": null,
            "grid_template_columns": null,
            "grid_template_rows": null,
            "height": null,
            "justify_content": null,
            "justify_items": null,
            "left": null,
            "margin": null,
            "max_height": null,
            "max_width": null,
            "min_height": null,
            "min_width": null,
            "object_fit": null,
            "object_position": null,
            "order": null,
            "overflow": null,
            "overflow_x": null,
            "overflow_y": null,
            "padding": null,
            "right": null,
            "top": null,
            "visibility": null,
            "width": null
          }
        },
        "87ec2be9884744f28cb915f7322bee5c": {
          "model_module": "@jupyter-widgets/base",
          "model_name": "LayoutModel",
          "model_module_version": "1.2.0",
          "state": {
            "_model_module": "@jupyter-widgets/base",
            "_model_module_version": "1.2.0",
            "_model_name": "LayoutModel",
            "_view_count": null,
            "_view_module": "@jupyter-widgets/base",
            "_view_module_version": "1.2.0",
            "_view_name": "LayoutView",
            "align_content": null,
            "align_items": null,
            "align_self": null,
            "border": null,
            "bottom": null,
            "display": null,
            "flex": null,
            "flex_flow": null,
            "grid_area": null,
            "grid_auto_columns": null,
            "grid_auto_flow": null,
            "grid_auto_rows": null,
            "grid_column": null,
            "grid_gap": null,
            "grid_row": null,
            "grid_template_areas": null,
            "grid_template_columns": null,
            "grid_template_rows": null,
            "height": null,
            "justify_content": null,
            "justify_items": null,
            "left": null,
            "margin": null,
            "max_height": null,
            "max_width": null,
            "min_height": null,
            "min_width": null,
            "object_fit": null,
            "object_position": null,
            "order": null,
            "overflow": null,
            "overflow_x": null,
            "overflow_y": null,
            "padding": null,
            "right": null,
            "top": null,
            "visibility": null,
            "width": null
          }
        },
        "15ece7f0b68740a3868dd9c9f43ad624": {
          "model_module": "@jupyter-widgets/controls",
          "model_name": "DescriptionStyleModel",
          "model_module_version": "1.5.0",
          "state": {
            "_model_module": "@jupyter-widgets/controls",
            "_model_module_version": "1.5.0",
            "_model_name": "DescriptionStyleModel",
            "_view_count": null,
            "_view_module": "@jupyter-widgets/base",
            "_view_module_version": "1.2.0",
            "_view_name": "StyleView",
            "description_width": ""
          }
        },
        "fa9f88210d12429ab64030b11bf0dc88": {
          "model_module": "@jupyter-widgets/base",
          "model_name": "LayoutModel",
          "model_module_version": "1.2.0",
          "state": {
            "_model_module": "@jupyter-widgets/base",
            "_model_module_version": "1.2.0",
            "_model_name": "LayoutModel",
            "_view_count": null,
            "_view_module": "@jupyter-widgets/base",
            "_view_module_version": "1.2.0",
            "_view_name": "LayoutView",
            "align_content": null,
            "align_items": null,
            "align_self": null,
            "border": null,
            "bottom": null,
            "display": null,
            "flex": null,
            "flex_flow": null,
            "grid_area": null,
            "grid_auto_columns": null,
            "grid_auto_flow": null,
            "grid_auto_rows": null,
            "grid_column": null,
            "grid_gap": null,
            "grid_row": null,
            "grid_template_areas": null,
            "grid_template_columns": null,
            "grid_template_rows": null,
            "height": null,
            "justify_content": null,
            "justify_items": null,
            "left": null,
            "margin": null,
            "max_height": null,
            "max_width": null,
            "min_height": null,
            "min_width": null,
            "object_fit": null,
            "object_position": null,
            "order": null,
            "overflow": null,
            "overflow_x": null,
            "overflow_y": null,
            "padding": null,
            "right": null,
            "top": null,
            "visibility": null,
            "width": null
          }
        },
        "25caa09a10804f54be63f454d377410d": {
          "model_module": "@jupyter-widgets/controls",
          "model_name": "ProgressStyleModel",
          "model_module_version": "1.5.0",
          "state": {
            "_model_module": "@jupyter-widgets/controls",
            "_model_module_version": "1.5.0",
            "_model_name": "ProgressStyleModel",
            "_view_count": null,
            "_view_module": "@jupyter-widgets/base",
            "_view_module_version": "1.2.0",
            "_view_name": "StyleView",
            "bar_color": null,
            "description_width": ""
          }
        },
        "3518c01b017b4e58a4815bb59cc87df5": {
          "model_module": "@jupyter-widgets/base",
          "model_name": "LayoutModel",
          "model_module_version": "1.2.0",
          "state": {
            "_model_module": "@jupyter-widgets/base",
            "_model_module_version": "1.2.0",
            "_model_name": "LayoutModel",
            "_view_count": null,
            "_view_module": "@jupyter-widgets/base",
            "_view_module_version": "1.2.0",
            "_view_name": "LayoutView",
            "align_content": null,
            "align_items": null,
            "align_self": null,
            "border": null,
            "bottom": null,
            "display": null,
            "flex": null,
            "flex_flow": null,
            "grid_area": null,
            "grid_auto_columns": null,
            "grid_auto_flow": null,
            "grid_auto_rows": null,
            "grid_column": null,
            "grid_gap": null,
            "grid_row": null,
            "grid_template_areas": null,
            "grid_template_columns": null,
            "grid_template_rows": null,
            "height": null,
            "justify_content": null,
            "justify_items": null,
            "left": null,
            "margin": null,
            "max_height": null,
            "max_width": null,
            "min_height": null,
            "min_width": null,
            "object_fit": null,
            "object_position": null,
            "order": null,
            "overflow": null,
            "overflow_x": null,
            "overflow_y": null,
            "padding": null,
            "right": null,
            "top": null,
            "visibility": null,
            "width": null
          }
        },
        "37e7e6f0536b40f2a6c4f6a82dc8ecd2": {
          "model_module": "@jupyter-widgets/controls",
          "model_name": "DescriptionStyleModel",
          "model_module_version": "1.5.0",
          "state": {
            "_model_module": "@jupyter-widgets/controls",
            "_model_module_version": "1.5.0",
            "_model_name": "DescriptionStyleModel",
            "_view_count": null,
            "_view_module": "@jupyter-widgets/base",
            "_view_module_version": "1.2.0",
            "_view_name": "StyleView",
            "description_width": ""
          }
        }
      }
    }
  },
  "nbformat": 4,
  "nbformat_minor": 0
}